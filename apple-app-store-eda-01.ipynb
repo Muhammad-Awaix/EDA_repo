{
 "cells": [
  {
   "cell_type": "markdown",
   "id": "3f10d5af",
   "metadata": {
    "papermill": {
     "duration": 0.010763,
     "end_time": "2025-06-19T06:12:14.686549",
     "exception": false,
     "start_time": "2025-06-19T06:12:14.675786",
     "status": "completed"
    },
    "tags": []
   },
   "source": [
    "# Importing Libraries"
   ]
  },
  {
   "cell_type": "code",
   "execution_count": 1,
   "id": "f49d6a20",
   "metadata": {
    "execution": {
     "iopub.execute_input": "2025-06-19T06:12:14.707308Z",
     "iopub.status.busy": "2025-06-19T06:12:14.706911Z",
     "iopub.status.idle": "2025-06-19T06:12:18.860267Z",
     "shell.execute_reply": "2025-06-19T06:12:18.858669Z"
    },
    "papermill": {
     "duration": 4.165857,
     "end_time": "2025-06-19T06:12:18.862115",
     "exception": false,
     "start_time": "2025-06-19T06:12:14.696258",
     "status": "completed"
    },
    "tags": []
   },
   "outputs": [],
   "source": [
    "import pandas as pd\n",
    "import numpy as np\n",
    "import seaborn as sns\n",
    "import matplotlib.pyplot as plt\n",
    "%matplotlib inline"
   ]
  },
  {
   "cell_type": "code",
   "execution_count": 2,
   "id": "0e09e6bf",
   "metadata": {
    "execution": {
     "iopub.execute_input": "2025-06-19T06:12:18.884376Z",
     "iopub.status.busy": "2025-06-19T06:12:18.883946Z",
     "iopub.status.idle": "2025-06-19T06:12:36.468609Z",
     "shell.execute_reply": "2025-06-19T06:12:36.467708Z"
    },
    "papermill": {
     "duration": 17.597869,
     "end_time": "2025-06-19T06:12:36.470679",
     "exception": false,
     "start_time": "2025-06-19T06:12:18.872810",
     "status": "completed"
    },
    "tags": []
   },
   "outputs": [],
   "source": [
    "df = pd.read_csv('/kaggle/input/apple-appstore-apps/appleAppData.csv')"
   ]
  },
  {
   "cell_type": "code",
   "execution_count": 3,
   "id": "1ab5ed94",
   "metadata": {
    "execution": {
     "iopub.execute_input": "2025-06-19T06:12:36.492328Z",
     "iopub.status.busy": "2025-06-19T06:12:36.491992Z",
     "iopub.status.idle": "2025-06-19T06:12:36.536314Z",
     "shell.execute_reply": "2025-06-19T06:12:36.535273Z"
    },
    "papermill": {
     "duration": 0.056675,
     "end_time": "2025-06-19T06:12:36.537994",
     "exception": false,
     "start_time": "2025-06-19T06:12:36.481319",
     "status": "completed"
    },
    "tags": []
   },
   "outputs": [
    {
     "data": {
      "text/html": [
       "<div>\n",
       "<style scoped>\n",
       "    .dataframe tbody tr th:only-of-type {\n",
       "        vertical-align: middle;\n",
       "    }\n",
       "\n",
       "    .dataframe tbody tr th {\n",
       "        vertical-align: top;\n",
       "    }\n",
       "\n",
       "    .dataframe thead th {\n",
       "        text-align: right;\n",
       "    }\n",
       "</style>\n",
       "<table border=\"1\" class=\"dataframe\">\n",
       "  <thead>\n",
       "    <tr style=\"text-align: right;\">\n",
       "      <th></th>\n",
       "      <th>App_Id</th>\n",
       "      <th>App_Name</th>\n",
       "      <th>AppStore_Url</th>\n",
       "      <th>Primary_Genre</th>\n",
       "      <th>Content_Rating</th>\n",
       "      <th>Size_Bytes</th>\n",
       "      <th>Required_IOS_Version</th>\n",
       "      <th>Released</th>\n",
       "      <th>Updated</th>\n",
       "      <th>Version</th>\n",
       "      <th>...</th>\n",
       "      <th>Currency</th>\n",
       "      <th>Free</th>\n",
       "      <th>DeveloperId</th>\n",
       "      <th>Developer</th>\n",
       "      <th>Developer_Url</th>\n",
       "      <th>Developer_Website</th>\n",
       "      <th>Average_User_Rating</th>\n",
       "      <th>Reviews</th>\n",
       "      <th>Current_Version_Score</th>\n",
       "      <th>Current_Version_Reviews</th>\n",
       "    </tr>\n",
       "  </thead>\n",
       "  <tbody>\n",
       "    <tr>\n",
       "      <th>0</th>\n",
       "      <td>com.hkbu.arc.apaper</td>\n",
       "      <td>A+ Paper Guide</td>\n",
       "      <td>https://apps.apple.com/us/app/a-paper-guide/id...</td>\n",
       "      <td>Education</td>\n",
       "      <td>4+</td>\n",
       "      <td>21993472.0</td>\n",
       "      <td>8.0</td>\n",
       "      <td>2017-09-28T03:02:41Z</td>\n",
       "      <td>2018-12-21T21:30:36Z</td>\n",
       "      <td>1.1.2</td>\n",
       "      <td>...</td>\n",
       "      <td>USD</td>\n",
       "      <td>True</td>\n",
       "      <td>1375410542</td>\n",
       "      <td>HKBU ARC</td>\n",
       "      <td>https://apps.apple.com/us/developer/hkbu-arc/i...</td>\n",
       "      <td>NaN</td>\n",
       "      <td>0.0</td>\n",
       "      <td>0</td>\n",
       "      <td>0.0</td>\n",
       "      <td>0</td>\n",
       "    </tr>\n",
       "    <tr>\n",
       "      <th>1</th>\n",
       "      <td>com.dmitriev.abooks</td>\n",
       "      <td>A-Books</td>\n",
       "      <td>https://apps.apple.com/us/app/a-books/id103157...</td>\n",
       "      <td>Book</td>\n",
       "      <td>4+</td>\n",
       "      <td>13135872.0</td>\n",
       "      <td>10.0</td>\n",
       "      <td>2015-08-31T19:31:32Z</td>\n",
       "      <td>2019-07-23T20:31:09Z</td>\n",
       "      <td>1.3</td>\n",
       "      <td>...</td>\n",
       "      <td>USD</td>\n",
       "      <td>True</td>\n",
       "      <td>1031572001</td>\n",
       "      <td>Roman Dmitriev</td>\n",
       "      <td>https://apps.apple.com/us/developer/roman-dmit...</td>\n",
       "      <td>NaN</td>\n",
       "      <td>5.0</td>\n",
       "      <td>1</td>\n",
       "      <td>5.0</td>\n",
       "      <td>1</td>\n",
       "    </tr>\n",
       "    <tr>\n",
       "      <th>2</th>\n",
       "      <td>no.terp.abooks</td>\n",
       "      <td>A-books</td>\n",
       "      <td>https://apps.apple.com/us/app/a-books/id145702...</td>\n",
       "      <td>Book</td>\n",
       "      <td>4+</td>\n",
       "      <td>21943296.0</td>\n",
       "      <td>9.0</td>\n",
       "      <td>2021-04-14T07:00:00Z</td>\n",
       "      <td>2021-05-30T21:08:54Z</td>\n",
       "      <td>1.3.1</td>\n",
       "      <td>...</td>\n",
       "      <td>USD</td>\n",
       "      <td>True</td>\n",
       "      <td>1457024163</td>\n",
       "      <td>Terp AS</td>\n",
       "      <td>https://apps.apple.com/us/developer/terp-as/id...</td>\n",
       "      <td>NaN</td>\n",
       "      <td>0.0</td>\n",
       "      <td>0</td>\n",
       "      <td>0.0</td>\n",
       "      <td>0</td>\n",
       "    </tr>\n",
       "    <tr>\n",
       "      <th>3</th>\n",
       "      <td>fr.antoinettefleur.Book1</td>\n",
       "      <td>A-F Book #1</td>\n",
       "      <td>https://apps.apple.com/us/app/a-f-book-1/id500...</td>\n",
       "      <td>Book</td>\n",
       "      <td>4+</td>\n",
       "      <td>81851392.0</td>\n",
       "      <td>8.0</td>\n",
       "      <td>2012-02-10T03:40:07Z</td>\n",
       "      <td>2019-10-29T12:40:37Z</td>\n",
       "      <td>1.2</td>\n",
       "      <td>...</td>\n",
       "      <td>USD</td>\n",
       "      <td>False</td>\n",
       "      <td>439568839</td>\n",
       "      <td>i-editeur.com</td>\n",
       "      <td>https://apps.apple.com/us/developer/i-editeur-...</td>\n",
       "      <td>NaN</td>\n",
       "      <td>0.0</td>\n",
       "      <td>0</td>\n",
       "      <td>0.0</td>\n",
       "      <td>0</td>\n",
       "    </tr>\n",
       "    <tr>\n",
       "      <th>4</th>\n",
       "      <td>com.imonstersoft.azdictionaryios</td>\n",
       "      <td>A-Z Synonyms Dictionary</td>\n",
       "      <td>https://apps.apple.com/us/app/a-z-synonyms-dic...</td>\n",
       "      <td>Reference</td>\n",
       "      <td>4+</td>\n",
       "      <td>64692224.0</td>\n",
       "      <td>9.0</td>\n",
       "      <td>2020-12-16T08:00:00Z</td>\n",
       "      <td>2020-12-18T21:36:11Z</td>\n",
       "      <td>1.0.1</td>\n",
       "      <td>...</td>\n",
       "      <td>USD</td>\n",
       "      <td>True</td>\n",
       "      <td>656731821</td>\n",
       "      <td>Ngov chiheang</td>\n",
       "      <td>https://apps.apple.com/us/developer/ngov-chihe...</td>\n",
       "      <td>http://imonstersoft.com</td>\n",
       "      <td>0.0</td>\n",
       "      <td>0</td>\n",
       "      <td>0.0</td>\n",
       "      <td>0</td>\n",
       "    </tr>\n",
       "  </tbody>\n",
       "</table>\n",
       "<p>5 rows × 21 columns</p>\n",
       "</div>"
      ],
      "text/plain": [
       "                             App_Id                 App_Name  \\\n",
       "0               com.hkbu.arc.apaper           A+ Paper Guide   \n",
       "1               com.dmitriev.abooks                  A-Books   \n",
       "2                    no.terp.abooks                  A-books   \n",
       "3          fr.antoinettefleur.Book1              A-F Book #1   \n",
       "4  com.imonstersoft.azdictionaryios  A-Z Synonyms Dictionary   \n",
       "\n",
       "                                        AppStore_Url Primary_Genre  \\\n",
       "0  https://apps.apple.com/us/app/a-paper-guide/id...     Education   \n",
       "1  https://apps.apple.com/us/app/a-books/id103157...          Book   \n",
       "2  https://apps.apple.com/us/app/a-books/id145702...          Book   \n",
       "3  https://apps.apple.com/us/app/a-f-book-1/id500...          Book   \n",
       "4  https://apps.apple.com/us/app/a-z-synonyms-dic...     Reference   \n",
       "\n",
       "  Content_Rating  Size_Bytes Required_IOS_Version              Released  \\\n",
       "0             4+  21993472.0                  8.0  2017-09-28T03:02:41Z   \n",
       "1             4+  13135872.0                 10.0  2015-08-31T19:31:32Z   \n",
       "2             4+  21943296.0                  9.0  2021-04-14T07:00:00Z   \n",
       "3             4+  81851392.0                  8.0  2012-02-10T03:40:07Z   \n",
       "4             4+  64692224.0                  9.0  2020-12-16T08:00:00Z   \n",
       "\n",
       "                Updated Version  ...  Currency   Free  DeveloperId  \\\n",
       "0  2018-12-21T21:30:36Z   1.1.2  ...       USD   True   1375410542   \n",
       "1  2019-07-23T20:31:09Z     1.3  ...       USD   True   1031572001   \n",
       "2  2021-05-30T21:08:54Z   1.3.1  ...       USD   True   1457024163   \n",
       "3  2019-10-29T12:40:37Z     1.2  ...       USD  False    439568839   \n",
       "4  2020-12-18T21:36:11Z   1.0.1  ...       USD   True    656731821   \n",
       "\n",
       "        Developer                                      Developer_Url  \\\n",
       "0        HKBU ARC  https://apps.apple.com/us/developer/hkbu-arc/i...   \n",
       "1  Roman Dmitriev  https://apps.apple.com/us/developer/roman-dmit...   \n",
       "2         Terp AS  https://apps.apple.com/us/developer/terp-as/id...   \n",
       "3   i-editeur.com  https://apps.apple.com/us/developer/i-editeur-...   \n",
       "4   Ngov chiheang  https://apps.apple.com/us/developer/ngov-chihe...   \n",
       "\n",
       "         Developer_Website Average_User_Rating  Reviews  \\\n",
       "0                      NaN                 0.0        0   \n",
       "1                      NaN                 5.0        1   \n",
       "2                      NaN                 0.0        0   \n",
       "3                      NaN                 0.0        0   \n",
       "4  http://imonstersoft.com                 0.0        0   \n",
       "\n",
       "   Current_Version_Score  Current_Version_Reviews  \n",
       "0                    0.0                        0  \n",
       "1                    5.0                        1  \n",
       "2                    0.0                        0  \n",
       "3                    0.0                        0  \n",
       "4                    0.0                        0  \n",
       "\n",
       "[5 rows x 21 columns]"
      ]
     },
     "execution_count": 3,
     "metadata": {},
     "output_type": "execute_result"
    }
   ],
   "source": [
    "df.head()"
   ]
  },
  {
   "cell_type": "code",
   "execution_count": 4,
   "id": "2ba0ac84",
   "metadata": {
    "execution": {
     "iopub.execute_input": "2025-06-19T06:12:36.559916Z",
     "iopub.status.busy": "2025-06-19T06:12:36.559505Z",
     "iopub.status.idle": "2025-06-19T06:12:36.566486Z",
     "shell.execute_reply": "2025-06-19T06:12:36.565127Z"
    },
    "papermill": {
     "duration": 0.019901,
     "end_time": "2025-06-19T06:12:36.568219",
     "exception": false,
     "start_time": "2025-06-19T06:12:36.548318",
     "status": "completed"
    },
    "tags": []
   },
   "outputs": [
    {
     "data": {
      "text/plain": [
       "(1230376, 21)"
      ]
     },
     "execution_count": 4,
     "metadata": {},
     "output_type": "execute_result"
    }
   ],
   "source": [
    "df.shape"
   ]
  },
  {
   "cell_type": "code",
   "execution_count": 5,
   "id": "46422c5e",
   "metadata": {
    "execution": {
     "iopub.execute_input": "2025-06-19T06:12:36.593877Z",
     "iopub.status.busy": "2025-06-19T06:12:36.593411Z",
     "iopub.status.idle": "2025-06-19T06:12:37.515597Z",
     "shell.execute_reply": "2025-06-19T06:12:37.514572Z"
    },
    "papermill": {
     "duration": 0.938192,
     "end_time": "2025-06-19T06:12:37.517268",
     "exception": false,
     "start_time": "2025-06-19T06:12:36.579076",
     "status": "completed"
    },
    "tags": []
   },
   "outputs": [
    {
     "name": "stdout",
     "output_type": "stream",
     "text": [
      "<class 'pandas.core.frame.DataFrame'>\n",
      "RangeIndex: 1230376 entries, 0 to 1230375\n",
      "Data columns (total 21 columns):\n",
      " #   Column                   Non-Null Count    Dtype  \n",
      "---  ------                   --------------    -----  \n",
      " 0   App_Id                   1230376 non-null  object \n",
      " 1   App_Name                 1230375 non-null  object \n",
      " 2   AppStore_Url             1230376 non-null  object \n",
      " 3   Primary_Genre            1230376 non-null  object \n",
      " 4   Content_Rating           1230376 non-null  object \n",
      " 5   Size_Bytes               1230152 non-null  float64\n",
      " 6   Required_IOS_Version     1230376 non-null  object \n",
      " 7   Released                 1230373 non-null  object \n",
      " 8   Updated                  1230376 non-null  object \n",
      " 9   Version                  1230376 non-null  object \n",
      " 10  Price                    1229886 non-null  float64\n",
      " 11  Currency                 1230376 non-null  object \n",
      " 12  Free                     1230376 non-null  bool   \n",
      " 13  DeveloperId              1230376 non-null  int64  \n",
      " 14  Developer                1230376 non-null  object \n",
      " 15  Developer_Url            1229267 non-null  object \n",
      " 16  Developer_Website        586388 non-null   object \n",
      " 17  Average_User_Rating      1230376 non-null  float64\n",
      " 18  Reviews                  1230376 non-null  int64  \n",
      " 19  Current_Version_Score    1230376 non-null  float64\n",
      " 20  Current_Version_Reviews  1230376 non-null  int64  \n",
      "dtypes: bool(1), float64(4), int64(3), object(13)\n",
      "memory usage: 188.9+ MB\n"
     ]
    }
   ],
   "source": [
    "df.info()"
   ]
  },
  {
   "cell_type": "code",
   "execution_count": 6,
   "id": "0936f8ce",
   "metadata": {
    "execution": {
     "iopub.execute_input": "2025-06-19T06:12:37.539614Z",
     "iopub.status.busy": "2025-06-19T06:12:37.539302Z",
     "iopub.status.idle": "2025-06-19T06:12:38.393829Z",
     "shell.execute_reply": "2025-06-19T06:12:38.392997Z"
    },
    "papermill": {
     "duration": 0.867219,
     "end_time": "2025-06-19T06:12:38.395264",
     "exception": false,
     "start_time": "2025-06-19T06:12:37.528045",
     "status": "completed"
    },
    "tags": []
   },
   "outputs": [
    {
     "data": {
      "text/plain": [
       "645815"
      ]
     },
     "execution_count": 6,
     "metadata": {},
     "output_type": "execute_result"
    }
   ],
   "source": [
    "df.isnull().sum().sum()"
   ]
  },
  {
   "cell_type": "code",
   "execution_count": 7,
   "id": "636f83bd",
   "metadata": {
    "execution": {
     "iopub.execute_input": "2025-06-19T06:12:38.417425Z",
     "iopub.status.busy": "2025-06-19T06:12:38.417086Z",
     "iopub.status.idle": "2025-06-19T06:13:14.962447Z",
     "shell.execute_reply": "2025-06-19T06:13:14.960509Z"
    },
    "papermill": {
     "duration": 36.572083,
     "end_time": "2025-06-19T06:13:14.977805",
     "exception": false,
     "start_time": "2025-06-19T06:12:38.405722",
     "status": "completed"
    },
    "tags": []
   },
   "outputs": [
    {
     "data": {
      "text/plain": [
       "<Axes: >"
      ]
     },
     "execution_count": 7,
     "metadata": {},
     "output_type": "execute_result"
    },
    {
     "data": {
      "image/png": "[encoded data removed]",
      "text/plain": [
       "<Figure size 640x480 with 2 Axes>"
      ]
     },
     "metadata": {},
     "output_type": "display_data"
    }
   ],
   "source": [
    "sns.heatmap(df.isna())"
   ]
  },
  {
   "cell_type": "code",
   "execution_count": 8,
   "id": "b2d4ef91",
   "metadata": {
    "execution": {
     "iopub.execute_input": "2025-06-19T06:13:15.003348Z",
     "iopub.status.busy": "2025-06-19T06:13:15.002991Z",
     "iopub.status.idle": "2025-06-19T06:13:15.854348Z",
     "shell.execute_reply": "2025-06-19T06:13:15.853194Z"
    },
    "papermill": {
     "duration": 0.866606,
     "end_time": "2025-06-19T06:13:15.856128",
     "exception": false,
     "start_time": "2025-06-19T06:13:14.989522",
     "status": "completed"
    },
    "tags": []
   },
   "outputs": [
    {
     "name": "stdout",
     "output_type": "stream",
     "text": [
      "App_Id                      0.000000\n",
      "App_Name                    0.000081\n",
      "AppStore_Url                0.000000\n",
      "Primary_Genre               0.000000\n",
      "Content_Rating              0.000000\n",
      "Size_Bytes                  0.018206\n",
      "Required_IOS_Version        0.000000\n",
      "Released                    0.000244\n",
      "Updated                     0.000000\n",
      "Version                     0.000000\n",
      "Price                       0.039825\n",
      "Currency                    0.000000\n",
      "Free                        0.000000\n",
      "DeveloperId                 0.000000\n",
      "Developer                   0.000000\n",
      "Developer_Url               0.090135\n",
      "Developer_Website          52.340748\n",
      "Average_User_Rating         0.000000\n",
      "Reviews                     0.000000\n",
      "Current_Version_Score       0.000000\n",
      "Current_Version_Reviews     0.000000\n",
      "dtype: float64\n"
     ]
    }
   ],
   "source": [
    "missing_percent_col = (df.isnull().sum() / len(df)) * 100\n",
    "print(missing_percent_col)"
   ]
  },
  {
   "cell_type": "markdown",
   "id": "67a34449",
   "metadata": {
    "papermill": {
     "duration": 0.012096,
     "end_time": "2025-06-19T06:13:15.881336",
     "exception": false,
     "start_time": "2025-06-19T06:13:15.869240",
     "status": "completed"
    },
    "tags": []
   },
   "source": [
    "## As you can see the Developer_website has a lot of missing values above 50% in Developer_Website"
   ]
  },
  {
   "cell_type": "code",
   "execution_count": 9,
   "id": "033af629",
   "metadata": {
    "execution": {
     "iopub.execute_input": "2025-06-19T06:13:15.906268Z",
     "iopub.status.busy": "2025-06-19T06:13:15.905964Z",
     "iopub.status.idle": "2025-06-19T06:13:19.487127Z",
     "shell.execute_reply": "2025-06-19T06:13:19.486061Z"
    },
    "papermill": {
     "duration": 3.595437,
     "end_time": "2025-06-19T06:13:19.488618",
     "exception": false,
     "start_time": "2025-06-19T06:13:15.893181",
     "status": "completed"
    },
    "tags": []
   },
   "outputs": [
    {
     "data": {
      "text/plain": [
       "0"
      ]
     },
     "execution_count": 9,
     "metadata": {},
     "output_type": "execute_result"
    }
   ],
   "source": [
    "df.duplicated().sum()"
   ]
  },
  {
   "cell_type": "code",
   "execution_count": 10,
   "id": "a668258b",
   "metadata": {
    "execution": {
     "iopub.execute_input": "2025-06-19T06:13:19.513792Z",
     "iopub.status.busy": "2025-06-19T06:13:19.513439Z",
     "iopub.status.idle": "2025-06-19T06:13:19.910230Z",
     "shell.execute_reply": "2025-06-19T06:13:19.908830Z"
    },
    "papermill": {
     "duration": 0.412165,
     "end_time": "2025-06-19T06:13:19.912916",
     "exception": false,
     "start_time": "2025-06-19T06:13:19.500751",
     "status": "completed"
    },
    "tags": []
   },
   "outputs": [
    {
     "data": {
      "text/html": [
       "<div>\n",
       "<style scoped>\n",
       "    .dataframe tbody tr th:only-of-type {\n",
       "        vertical-align: middle;\n",
       "    }\n",
       "\n",
       "    .dataframe tbody tr th {\n",
       "        vertical-align: top;\n",
       "    }\n",
       "\n",
       "    .dataframe thead th {\n",
       "        text-align: right;\n",
       "    }\n",
       "</style>\n",
       "<table border=\"1\" class=\"dataframe\">\n",
       "  <thead>\n",
       "    <tr style=\"text-align: right;\">\n",
       "      <th></th>\n",
       "      <th>Size_Bytes</th>\n",
       "      <th>Price</th>\n",
       "      <th>DeveloperId</th>\n",
       "      <th>Average_User_Rating</th>\n",
       "      <th>Reviews</th>\n",
       "      <th>Current_Version_Score</th>\n",
       "      <th>Current_Version_Reviews</th>\n",
       "    </tr>\n",
       "  </thead>\n",
       "  <tbody>\n",
       "    <tr>\n",
       "      <th>count</th>\n",
       "      <td>1.230152e+06</td>\n",
       "      <td>1.229886e+06</td>\n",
       "      <td>1.230376e+06</td>\n",
       "      <td>1.230376e+06</td>\n",
       "      <td>1.230376e+06</td>\n",
       "      <td>1.230376e+06</td>\n",
       "      <td>1.230376e+06</td>\n",
       "    </tr>\n",
       "    <tr>\n",
       "      <th>mean</th>\n",
       "      <td>7.510857e+07</td>\n",
       "      <td>5.041264e-01</td>\n",
       "      <td>1.092869e+09</td>\n",
       "      <td>1.788387e+00</td>\n",
       "      <td>8.259478e+02</td>\n",
       "      <td>1.788387e+00</td>\n",
       "      <td>8.259478e+02</td>\n",
       "    </tr>\n",
       "    <tr>\n",
       "      <th>std</th>\n",
       "      <td>2.318726e+08</td>\n",
       "      <td>6.869674e+00</td>\n",
       "      <td>4.090897e+08</td>\n",
       "      <td>2.154105e+00</td>\n",
       "      <td>5.016051e+04</td>\n",
       "      <td>2.154105e+00</td>\n",
       "      <td>5.016051e+04</td>\n",
       "    </tr>\n",
       "    <tr>\n",
       "      <th>min</th>\n",
       "      <td>2.762800e+04</td>\n",
       "      <td>0.000000e+00</td>\n",
       "      <td>2.816565e+08</td>\n",
       "      <td>0.000000e+00</td>\n",
       "      <td>0.000000e+00</td>\n",
       "      <td>0.000000e+00</td>\n",
       "      <td>0.000000e+00</td>\n",
       "    </tr>\n",
       "    <tr>\n",
       "      <th>25%</th>\n",
       "      <td>2.041344e+07</td>\n",
       "      <td>0.000000e+00</td>\n",
       "      <td>7.381109e+08</td>\n",
       "      <td>0.000000e+00</td>\n",
       "      <td>0.000000e+00</td>\n",
       "      <td>0.000000e+00</td>\n",
       "      <td>0.000000e+00</td>\n",
       "    </tr>\n",
       "    <tr>\n",
       "      <th>50%</th>\n",
       "      <td>4.333158e+07</td>\n",
       "      <td>0.000000e+00</td>\n",
       "      <td>1.179711e+09</td>\n",
       "      <td>0.000000e+00</td>\n",
       "      <td>0.000000e+00</td>\n",
       "      <td>0.000000e+00</td>\n",
       "      <td>0.000000e+00</td>\n",
       "    </tr>\n",
       "    <tr>\n",
       "      <th>75%</th>\n",
       "      <td>8.365466e+07</td>\n",
       "      <td>0.000000e+00</td>\n",
       "      <td>1.471960e+09</td>\n",
       "      <td>4.333330e+00</td>\n",
       "      <td>3.000000e+00</td>\n",
       "      <td>4.333330e+00</td>\n",
       "      <td>3.000000e+00</td>\n",
       "    </tr>\n",
       "    <tr>\n",
       "      <th>max</th>\n",
       "      <td>7.677945e+10</td>\n",
       "      <td>9.999900e+02</td>\n",
       "      <td>1.590233e+09</td>\n",
       "      <td>5.000000e+00</td>\n",
       "      <td>2.268533e+07</td>\n",
       "      <td>5.000000e+00</td>\n",
       "      <td>2.268533e+07</td>\n",
       "    </tr>\n",
       "  </tbody>\n",
       "</table>\n",
       "</div>"
      ],
      "text/plain": [
       "         Size_Bytes         Price   DeveloperId  Average_User_Rating  \\\n",
       "count  1.230152e+06  1.229886e+06  1.230376e+06         1.230376e+06   \n",
       "mean   7.510857e+07  5.041264e-01  1.092869e+09         1.788387e+00   \n",
       "std    2.318726e+08  6.869674e+00  4.090897e+08         2.154105e+00   \n",
       "min    2.762800e+04  0.000000e+00  2.816565e+08         0.000000e+00   \n",
       "25%    2.041344e+07  0.000000e+00  7.381109e+08         0.000000e+00   \n",
       "50%    4.333158e+07  0.000000e+00  1.179711e+09         0.000000e+00   \n",
       "75%    8.365466e+07  0.000000e+00  1.471960e+09         4.333330e+00   \n",
       "max    7.677945e+10  9.999900e+02  1.590233e+09         5.000000e+00   \n",
       "\n",
       "            Reviews  Current_Version_Score  Current_Version_Reviews  \n",
       "count  1.230376e+06           1.230376e+06             1.230376e+06  \n",
       "mean   8.259478e+02           1.788387e+00             8.259478e+02  \n",
       "std    5.016051e+04           2.154105e+00             5.016051e+04  \n",
       "min    0.000000e+00           0.000000e+00             0.000000e+00  \n",
       "25%    0.000000e+00           0.000000e+00             0.000000e+00  \n",
       "50%    0.000000e+00           0.000000e+00             0.000000e+00  \n",
       "75%    3.000000e+00           4.333330e+00             3.000000e+00  \n",
       "max    2.268533e+07           5.000000e+00             2.268533e+07  "
      ]
     },
     "execution_count": 10,
     "metadata": {},
     "output_type": "execute_result"
    }
   ],
   "source": [
    "df.describe()"
   ]
  },
  {
   "cell_type": "code",
   "execution_count": 11,
   "id": "ee5a2424",
   "metadata": {
    "execution": {
     "iopub.execute_input": "2025-06-19T06:13:19.939689Z",
     "iopub.status.busy": "2025-06-19T06:13:19.939336Z",
     "iopub.status.idle": "2025-06-19T06:13:19.945823Z",
     "shell.execute_reply": "2025-06-19T06:13:19.944746Z"
    },
    "papermill": {
     "duration": 0.021101,
     "end_time": "2025-06-19T06:13:19.947271",
     "exception": false,
     "start_time": "2025-06-19T06:13:19.926170",
     "status": "completed"
    },
    "tags": []
   },
   "outputs": [
    {
     "data": {
      "text/plain": [
       "Index(['App_Id', 'App_Name', 'AppStore_Url', 'Primary_Genre', 'Content_Rating',\n",
       "       'Size_Bytes', 'Required_IOS_Version', 'Released', 'Updated', 'Version',\n",
       "       'Price', 'Currency', 'Free', 'DeveloperId', 'Developer',\n",
       "       'Developer_Url', 'Developer_Website', 'Average_User_Rating', 'Reviews',\n",
       "       'Current_Version_Score', 'Current_Version_Reviews'],\n",
       "      dtype='object')"
      ]
     },
     "execution_count": 11,
     "metadata": {},
     "output_type": "execute_result"
    }
   ],
   "source": [
    "df.columns"
   ]
  },
  {
   "cell_type": "markdown",
   "id": "7bbd41c8",
   "metadata": {
    "papermill": {
     "duration": 0.011773,
     "end_time": "2025-06-19T06:13:19.971502",
     "exception": false,
     "start_time": "2025-06-19T06:13:19.959729",
     "status": "completed"
    },
    "tags": []
   },
   "source": [
    "## Now dealing every columns"
   ]
  },
  {
   "cell_type": "code",
   "execution_count": 12,
   "id": "5c7b71d4",
   "metadata": {
    "execution": {
     "iopub.execute_input": "2025-06-19T06:13:20.069291Z",
     "iopub.status.busy": "2025-06-19T06:13:20.068949Z",
     "iopub.status.idle": "2025-06-19T06:13:20.093839Z",
     "shell.execute_reply": "2025-06-19T06:13:20.092810Z"
    },
    "papermill": {
     "duration": 0.0418,
     "end_time": "2025-06-19T06:13:20.096107",
     "exception": false,
     "start_time": "2025-06-19T06:13:20.054307",
     "status": "completed"
    },
    "tags": []
   },
   "outputs": [
    {
     "data": {
      "text/html": [
       "<div>\n",
       "<style scoped>\n",
       "    .dataframe tbody tr th:only-of-type {\n",
       "        vertical-align: middle;\n",
       "    }\n",
       "\n",
       "    .dataframe tbody tr th {\n",
       "        vertical-align: top;\n",
       "    }\n",
       "\n",
       "    .dataframe thead th {\n",
       "        text-align: right;\n",
       "    }\n",
       "</style>\n",
       "<table border=\"1\" class=\"dataframe\">\n",
       "  <thead>\n",
       "    <tr style=\"text-align: right;\">\n",
       "      <th></th>\n",
       "      <th>Price</th>\n",
       "      <th>count</th>\n",
       "    </tr>\n",
       "  </thead>\n",
       "  <tbody>\n",
       "    <tr>\n",
       "      <th>0</th>\n",
       "      <td>0.00</td>\n",
       "      <td>1127384</td>\n",
       "    </tr>\n",
       "    <tr>\n",
       "      <th>1</th>\n",
       "      <td>0.99</td>\n",
       "      <td>33813</td>\n",
       "    </tr>\n",
       "    <tr>\n",
       "      <th>2</th>\n",
       "      <td>1.99</td>\n",
       "      <td>19905</td>\n",
       "    </tr>\n",
       "    <tr>\n",
       "      <th>3</th>\n",
       "      <td>2.99</td>\n",
       "      <td>13246</td>\n",
       "    </tr>\n",
       "    <tr>\n",
       "      <th>4</th>\n",
       "      <td>4.99</td>\n",
       "      <td>8817</td>\n",
       "    </tr>\n",
       "    <tr>\n",
       "      <th>...</th>\n",
       "      <td>...</td>\n",
       "      <td>...</td>\n",
       "    </tr>\n",
       "    <tr>\n",
       "      <th>83</th>\n",
       "      <td>899.99</td>\n",
       "      <td>4</td>\n",
       "    </tr>\n",
       "    <tr>\n",
       "      <th>84</th>\n",
       "      <td>799.99</td>\n",
       "      <td>3</td>\n",
       "    </tr>\n",
       "    <tr>\n",
       "      <th>85</th>\n",
       "      <td>599.99</td>\n",
       "      <td>3</td>\n",
       "    </tr>\n",
       "    <tr>\n",
       "      <th>86</th>\n",
       "      <td>239.99</td>\n",
       "      <td>3</td>\n",
       "    </tr>\n",
       "    <tr>\n",
       "      <th>87</th>\n",
       "      <td>189.99</td>\n",
       "      <td>2</td>\n",
       "    </tr>\n",
       "  </tbody>\n",
       "</table>\n",
       "<p>88 rows × 2 columns</p>\n",
       "</div>"
      ],
      "text/plain": [
       "     Price    count\n",
       "0     0.00  1127384\n",
       "1     0.99    33813\n",
       "2     1.99    19905\n",
       "3     2.99    13246\n",
       "4     4.99     8817\n",
       "..     ...      ...\n",
       "83  899.99        4\n",
       "84  799.99        3\n",
       "85  599.99        3\n",
       "86  239.99        3\n",
       "87  189.99        2\n",
       "\n",
       "[88 rows x 2 columns]"
      ]
     },
     "execution_count": 12,
     "metadata": {},
     "output_type": "execute_result"
    }
   ],
   "source": [
    "df['Price'].value_counts().reset_index()"
   ]
  },
  {
   "cell_type": "code",
   "execution_count": 13,
   "id": "1b8bce46",
   "metadata": {
    "execution": {
     "iopub.execute_input": "2025-06-19T06:13:20.122947Z",
     "iopub.status.busy": "2025-06-19T06:13:20.122603Z",
     "iopub.status.idle": "2025-06-19T06:13:20.138601Z",
     "shell.execute_reply": "2025-06-19T06:13:20.137554Z"
    },
    "papermill": {
     "duration": 0.031333,
     "end_time": "2025-06-19T06:13:20.140383",
     "exception": false,
     "start_time": "2025-06-19T06:13:20.109050",
     "status": "completed"
    },
    "tags": []
   },
   "outputs": [
    {
     "data": {
      "text/plain": [
       "Free\n",
       "True     1127384\n",
       "False     102992\n",
       "Name: count, dtype: int64"
      ]
     },
     "execution_count": 13,
     "metadata": {},
     "output_type": "execute_result"
    }
   ],
   "source": [
    "df['Free'].value_counts()"
   ]
  },
  {
   "cell_type": "markdown",
   "id": "1cac7633",
   "metadata": {
    "papermill": {
     "duration": 0.013337,
     "end_time": "2025-06-19T06:13:20.166448",
     "exception": false,
     "start_time": "2025-06-19T06:13:20.153111",
     "status": "completed"
    },
    "tags": []
   },
   "source": [
    "## As you can see from Price and Free the values counts are same 11lac free apps"
   ]
  },
  {
   "cell_type": "code",
   "execution_count": 14,
   "id": "871e6b4e",
   "metadata": {
    "execution": {
     "iopub.execute_input": "2025-06-19T06:13:20.193084Z",
     "iopub.status.busy": "2025-06-19T06:13:20.192638Z",
     "iopub.status.idle": "2025-06-19T06:13:20.295944Z",
     "shell.execute_reply": "2025-06-19T06:13:20.295112Z"
    },
    "papermill": {
     "duration": 0.118168,
     "end_time": "2025-06-19T06:13:20.297328",
     "exception": false,
     "start_time": "2025-06-19T06:13:20.179160",
     "status": "completed"
    },
    "tags": []
   },
   "outputs": [
    {
     "data": {
      "text/html": [
       "<div>\n",
       "<style scoped>\n",
       "    .dataframe tbody tr th:only-of-type {\n",
       "        vertical-align: middle;\n",
       "    }\n",
       "\n",
       "    .dataframe tbody tr th {\n",
       "        vertical-align: top;\n",
       "    }\n",
       "\n",
       "    .dataframe thead th {\n",
       "        text-align: right;\n",
       "    }\n",
       "</style>\n",
       "<table border=\"1\" class=\"dataframe\">\n",
       "  <thead>\n",
       "    <tr style=\"text-align: right;\">\n",
       "      <th></th>\n",
       "      <th>Primary_Genre</th>\n",
       "      <th>count</th>\n",
       "    </tr>\n",
       "  </thead>\n",
       "  <tbody>\n",
       "    <tr>\n",
       "      <th>0</th>\n",
       "      <td>Games</td>\n",
       "      <td>193749</td>\n",
       "    </tr>\n",
       "    <tr>\n",
       "      <th>1</th>\n",
       "      <td>Business</td>\n",
       "      <td>128297</td>\n",
       "    </tr>\n",
       "    <tr>\n",
       "      <th>2</th>\n",
       "      <td>Education</td>\n",
       "      <td>119174</td>\n",
       "    </tr>\n",
       "    <tr>\n",
       "      <th>3</th>\n",
       "      <td>Utilities</td>\n",
       "      <td>94007</td>\n",
       "    </tr>\n",
       "    <tr>\n",
       "      <th>4</th>\n",
       "      <td>Lifestyle</td>\n",
       "      <td>84565</td>\n",
       "    </tr>\n",
       "    <tr>\n",
       "      <th>5</th>\n",
       "      <td>Food &amp; Drink</td>\n",
       "      <td>73157</td>\n",
       "    </tr>\n",
       "    <tr>\n",
       "      <th>6</th>\n",
       "      <td>Health &amp; Fitness</td>\n",
       "      <td>60724</td>\n",
       "    </tr>\n",
       "    <tr>\n",
       "      <th>7</th>\n",
       "      <td>Productivity</td>\n",
       "      <td>59430</td>\n",
       "    </tr>\n",
       "    <tr>\n",
       "      <th>8</th>\n",
       "      <td>Entertainment</td>\n",
       "      <td>53147</td>\n",
       "    </tr>\n",
       "    <tr>\n",
       "      <th>9</th>\n",
       "      <td>Shopping</td>\n",
       "      <td>49537</td>\n",
       "    </tr>\n",
       "    <tr>\n",
       "      <th>10</th>\n",
       "      <td>Finance</td>\n",
       "      <td>44984</td>\n",
       "    </tr>\n",
       "    <tr>\n",
       "      <th>11</th>\n",
       "      <td>Travel</td>\n",
       "      <td>43726</td>\n",
       "    </tr>\n",
       "    <tr>\n",
       "      <th>12</th>\n",
       "      <td>Sports</td>\n",
       "      <td>31455</td>\n",
       "    </tr>\n",
       "    <tr>\n",
       "      <th>13</th>\n",
       "      <td>Music</td>\n",
       "      <td>29898</td>\n",
       "    </tr>\n",
       "    <tr>\n",
       "      <th>14</th>\n",
       "      <td>Medical</td>\n",
       "      <td>27995</td>\n",
       "    </tr>\n",
       "    <tr>\n",
       "      <th>15</th>\n",
       "      <td>Photo &amp; Video</td>\n",
       "      <td>25957</td>\n",
       "    </tr>\n",
       "    <tr>\n",
       "      <th>16</th>\n",
       "      <td>Social Networking</td>\n",
       "      <td>25429</td>\n",
       "    </tr>\n",
       "    <tr>\n",
       "      <th>17</th>\n",
       "      <td>News</td>\n",
       "      <td>20423</td>\n",
       "    </tr>\n",
       "    <tr>\n",
       "      <th>18</th>\n",
       "      <td>Reference</td>\n",
       "      <td>18615</td>\n",
       "    </tr>\n",
       "    <tr>\n",
       "      <th>19</th>\n",
       "      <td>Navigation</td>\n",
       "      <td>12636</td>\n",
       "    </tr>\n",
       "    <tr>\n",
       "      <th>20</th>\n",
       "      <td>Stickers</td>\n",
       "      <td>12407</td>\n",
       "    </tr>\n",
       "    <tr>\n",
       "      <th>21</th>\n",
       "      <td>Book</td>\n",
       "      <td>11472</td>\n",
       "    </tr>\n",
       "    <tr>\n",
       "      <th>22</th>\n",
       "      <td>Weather</td>\n",
       "      <td>3563</td>\n",
       "    </tr>\n",
       "    <tr>\n",
       "      <th>23</th>\n",
       "      <td>Graphics &amp; Design</td>\n",
       "      <td>2781</td>\n",
       "    </tr>\n",
       "    <tr>\n",
       "      <th>24</th>\n",
       "      <td>Developer Tools</td>\n",
       "      <td>1951</td>\n",
       "    </tr>\n",
       "    <tr>\n",
       "      <th>25</th>\n",
       "      <td>Magazines &amp; Newspapers</td>\n",
       "      <td>1297</td>\n",
       "    </tr>\n",
       "  </tbody>\n",
       "</table>\n",
       "</div>"
      ],
      "text/plain": [
       "             Primary_Genre   count\n",
       "0                    Games  193749\n",
       "1                 Business  128297\n",
       "2                Education  119174\n",
       "3                Utilities   94007\n",
       "4                Lifestyle   84565\n",
       "5             Food & Drink   73157\n",
       "6         Health & Fitness   60724\n",
       "7             Productivity   59430\n",
       "8            Entertainment   53147\n",
       "9                 Shopping   49537\n",
       "10                 Finance   44984\n",
       "11                  Travel   43726\n",
       "12                  Sports   31455\n",
       "13                   Music   29898\n",
       "14                 Medical   27995\n",
       "15           Photo & Video   25957\n",
       "16       Social Networking   25429\n",
       "17                    News   20423\n",
       "18               Reference   18615\n",
       "19              Navigation   12636\n",
       "20                Stickers   12407\n",
       "21                    Book   11472\n",
       "22                 Weather    3563\n",
       "23       Graphics & Design    2781\n",
       "24         Developer Tools    1951\n",
       "25  Magazines & Newspapers    1297"
      ]
     },
     "execution_count": 14,
     "metadata": {},
     "output_type": "execute_result"
    }
   ],
   "source": [
    "df['Primary_Genre'].value_counts().reset_index()"
   ]
  },
  {
   "cell_type": "markdown",
   "id": "724e6d5b",
   "metadata": {
    "papermill": {
     "duration": 0.013059,
     "end_time": "2025-06-19T06:13:20.323614",
     "exception": false,
     "start_time": "2025-06-19T06:13:20.310555",
     "status": "completed"
    },
    "tags": []
   },
   "source": [
    "## So Gaming, Business and Education are the top 3 Genre of the Apps "
   ]
  },
  {
   "cell_type": "code",
   "execution_count": 15,
   "id": "05003122",
   "metadata": {
    "execution": {
     "iopub.execute_input": "2025-06-19T06:13:20.353386Z",
     "iopub.status.busy": "2025-06-19T06:13:20.353053Z",
     "iopub.status.idle": "2025-06-19T06:13:20.359974Z",
     "shell.execute_reply": "2025-06-19T06:13:20.359025Z"
    },
    "papermill": {
     "duration": 0.02267,
     "end_time": "2025-06-19T06:13:20.361545",
     "exception": false,
     "start_time": "2025-06-19T06:13:20.338875",
     "status": "completed"
    },
    "tags": []
   },
   "outputs": [
    {
     "data": {
      "text/plain": [
       "76779452340.0"
      ]
     },
     "execution_count": 15,
     "metadata": {},
     "output_type": "execute_result"
    }
   ],
   "source": [
    "df['Size_Bytes'].max()"
   ]
  },
  {
   "cell_type": "code",
   "execution_count": 16,
   "id": "2a962bdf",
   "metadata": {
    "execution": {
     "iopub.execute_input": "2025-06-19T06:13:20.389696Z",
     "iopub.status.busy": "2025-06-19T06:13:20.388532Z",
     "iopub.status.idle": "2025-06-19T06:13:20.393896Z",
     "shell.execute_reply": "2025-06-19T06:13:20.392975Z"
    },
    "papermill": {
     "duration": 0.020714,
     "end_time": "2025-06-19T06:13:20.395229",
     "exception": false,
     "start_time": "2025-06-19T06:13:20.374515",
     "status": "completed"
    },
    "tags": []
   },
   "outputs": [
    {
     "name": "stdout",
     "output_type": "stream",
     "text": [
      "The Size in GB's 71.50643723085523\n"
     ]
    }
   ],
   "source": [
    "print(f\"The Size in GB's {76779452340.0/1024**3}\")"
   ]
  },
  {
   "cell_type": "code",
   "execution_count": 17,
   "id": "2c1a1d9e",
   "metadata": {
    "execution": {
     "iopub.execute_input": "2025-06-19T06:13:20.424024Z",
     "iopub.status.busy": "2025-06-19T06:13:20.423549Z",
     "iopub.status.idle": "2025-06-19T06:13:20.434358Z",
     "shell.execute_reply": "2025-06-19T06:13:20.433290Z"
    },
    "papermill": {
     "duration": 0.026974,
     "end_time": "2025-06-19T06:13:20.435930",
     "exception": false,
     "start_time": "2025-06-19T06:13:20.408956",
     "status": "completed"
    },
    "tags": []
   },
   "outputs": [
    {
     "name": "stdout",
     "output_type": "stream",
     "text": [
      "App ID: com.kochmedia.MetroExodusNew\n",
      "App Name: Metro Exodus\n"
     ]
    }
   ],
   "source": [
    "# Find the row with the maximum size\n",
    "max_size_row = df[df['Size_Bytes'] == df['Size_Bytes'].max()]\n",
    "\n",
    "# Get App_Id and App_Name\n",
    "app_id = max_size_row['App_Id'].values[0]\n",
    "app_name = max_size_row['App_Name'].values[0]\n",
    "\n",
    "print(f\"App ID: {app_id}\")\n",
    "print(f\"App Name: {app_name}\")"
   ]
  },
  {
   "cell_type": "markdown",
   "id": "f6dfa1f7",
   "metadata": {
    "papermill": {
     "duration": 0.012917,
     "end_time": "2025-06-19T06:13:20.462057",
     "exception": false,
     "start_time": "2025-06-19T06:13:20.449140",
     "status": "completed"
    },
    "tags": []
   },
   "source": [
    "## Metro Exodus is the haviest game in the App Store"
   ]
  },
  {
   "cell_type": "code",
   "execution_count": 18,
   "id": "2b41acc0",
   "metadata": {
    "execution": {
     "iopub.execute_input": "2025-06-19T06:13:20.489977Z",
     "iopub.status.busy": "2025-06-19T06:13:20.489613Z",
     "iopub.status.idle": "2025-06-19T06:13:20.497037Z",
     "shell.execute_reply": "2025-06-19T06:13:20.496038Z"
    },
    "papermill": {
     "duration": 0.02356,
     "end_time": "2025-06-19T06:13:20.498717",
     "exception": false,
     "start_time": "2025-06-19T06:13:20.475157",
     "status": "completed"
    },
    "tags": []
   },
   "outputs": [
    {
     "data": {
      "text/plain": [
       "27628.0"
      ]
     },
     "execution_count": 18,
     "metadata": {},
     "output_type": "execute_result"
    }
   ],
   "source": [
    "df['Size_Bytes'].min()"
   ]
  },
  {
   "cell_type": "code",
   "execution_count": 19,
   "id": "1e20ec58",
   "metadata": {
    "execution": {
     "iopub.execute_input": "2025-06-19T06:13:20.527285Z",
     "iopub.status.busy": "2025-06-19T06:13:20.527010Z",
     "iopub.status.idle": "2025-06-19T06:13:20.536078Z",
     "shell.execute_reply": "2025-06-19T06:13:20.535038Z"
    },
    "papermill": {
     "duration": 0.02522,
     "end_time": "2025-06-19T06:13:20.537826",
     "exception": false,
     "start_time": "2025-06-19T06:13:20.512606",
     "status": "completed"
    },
    "tags": []
   },
   "outputs": [
    {
     "name": "stdout",
     "output_type": "stream",
     "text": [
      "App ID is com.yourcompany.SelectAlbum\n",
      "App Name is Select Album\n"
     ]
    }
   ],
   "source": [
    "min_size_row = df[df['Size_Bytes']==df['Size_Bytes'].min()]\n",
    "app_id = min_size_row['App_Id'].values[0]\n",
    "app_name = min_size_row['App_Name'].values[0]\n",
    "print(f\"App ID is {app_id}\")\n",
    "print(f\"App Name is {app_name}\")"
   ]
  },
  {
   "cell_type": "markdown",
   "id": "df192363",
   "metadata": {
    "papermill": {
     "duration": 0.013619,
     "end_time": "2025-06-19T06:13:20.565587",
     "exception": false,
     "start_time": "2025-06-19T06:13:20.551968",
     "status": "completed"
    },
    "tags": []
   },
   "source": [
    "## The lowset size app in App Store is Select Album"
   ]
  },
  {
   "cell_type": "code",
   "execution_count": 20,
   "id": "4d7123f3",
   "metadata": {
    "execution": {
     "iopub.execute_input": "2025-06-19T06:13:20.594286Z",
     "iopub.status.busy": "2025-06-19T06:13:20.593615Z",
     "iopub.status.idle": "2025-06-19T06:13:21.462036Z",
     "shell.execute_reply": "2025-06-19T06:13:21.460884Z"
    },
    "papermill": {
     "duration": 0.884501,
     "end_time": "2025-06-19T06:13:21.463895",
     "exception": false,
     "start_time": "2025-06-19T06:13:20.579394",
     "status": "completed"
    },
    "tags": []
   },
   "outputs": [
    {
     "name": "stdout",
     "output_type": "stream",
     "text": [
      "<class 'pandas.core.frame.DataFrame'>\n",
      "RangeIndex: 1230376 entries, 0 to 1230375\n",
      "Data columns (total 21 columns):\n",
      " #   Column                   Non-Null Count    Dtype  \n",
      "---  ------                   --------------    -----  \n",
      " 0   App_Id                   1230376 non-null  object \n",
      " 1   App_Name                 1230375 non-null  object \n",
      " 2   AppStore_Url             1230376 non-null  object \n",
      " 3   Primary_Genre            1230376 non-null  object \n",
      " 4   Content_Rating           1230376 non-null  object \n",
      " 5   Size_Bytes               1230152 non-null  float64\n",
      " 6   Required_IOS_Version     1230376 non-null  object \n",
      " 7   Released                 1230373 non-null  object \n",
      " 8   Updated                  1230376 non-null  object \n",
      " 9   Version                  1230376 non-null  object \n",
      " 10  Price                    1229886 non-null  float64\n",
      " 11  Currency                 1230376 non-null  object \n",
      " 12  Free                     1230376 non-null  bool   \n",
      " 13  DeveloperId              1230376 non-null  int64  \n",
      " 14  Developer                1230376 non-null  object \n",
      " 15  Developer_Url            1229267 non-null  object \n",
      " 16  Developer_Website        586388 non-null   object \n",
      " 17  Average_User_Rating      1230376 non-null  float64\n",
      " 18  Reviews                  1230376 non-null  int64  \n",
      " 19  Current_Version_Score    1230376 non-null  float64\n",
      " 20  Current_Version_Reviews  1230376 non-null  int64  \n",
      "dtypes: bool(1), float64(4), int64(3), object(13)\n",
      "memory usage: 188.9+ MB\n"
     ]
    }
   ],
   "source": [
    "df.info()"
   ]
  },
  {
   "cell_type": "code",
   "execution_count": 21,
   "id": "73be60ef",
   "metadata": {
    "execution": {
     "iopub.execute_input": "2025-06-19T06:13:21.492478Z",
     "iopub.status.busy": "2025-06-19T06:13:21.492157Z",
     "iopub.status.idle": "2025-06-19T06:13:21.592089Z",
     "shell.execute_reply": "2025-06-19T06:13:21.591104Z"
    },
    "papermill": {
     "duration": 0.115858,
     "end_time": "2025-06-19T06:13:21.593758",
     "exception": false,
     "start_time": "2025-06-19T06:13:21.477900",
     "status": "completed"
    },
    "tags": []
   },
   "outputs": [
    {
     "data": {
      "text/plain": [
       "Content_Rating\n",
       "4+               980971\n",
       "17+              124127\n",
       "12+               89570\n",
       "9+                35698\n",
       "Not yet rated        10\n",
       "Name: count, dtype: int64"
      ]
     },
     "execution_count": 21,
     "metadata": {},
     "output_type": "execute_result"
    }
   ],
   "source": [
    "df['Content_Rating'].value_counts()"
   ]
  },
  {
   "cell_type": "markdown",
   "id": "34da66e4",
   "metadata": {
    "papermill": {
     "duration": 0.01385,
     "end_time": "2025-06-19T06:13:21.621560",
     "exception": false,
     "start_time": "2025-06-19T06:13:21.607710",
     "status": "completed"
    },
    "tags": []
   },
   "source": [
    "## Most of the Apps are build for 4+ years, for childes"
   ]
  },
  {
   "cell_type": "markdown",
   "id": "d459f814",
   "metadata": {
    "papermill": {
     "duration": 0.014252,
     "end_time": "2025-06-19T06:13:21.650278",
     "exception": false,
     "start_time": "2025-06-19T06:13:21.636026",
     "status": "completed"
    },
    "tags": []
   },
   "source": [
    "# Now we mostly know our columns next we have to manipluate the data"
   ]
  },
  {
   "cell_type": "code",
   "execution_count": 22,
   "id": "08ef2a2e",
   "metadata": {
    "execution": {
     "iopub.execute_input": "2025-06-19T06:13:21.679567Z",
     "iopub.status.busy": "2025-06-19T06:13:21.679237Z",
     "iopub.status.idle": "2025-06-19T06:13:21.800708Z",
     "shell.execute_reply": "2025-06-19T06:13:21.799469Z"
    },
    "papermill": {
     "duration": 0.138427,
     "end_time": "2025-06-19T06:13:21.802727",
     "exception": false,
     "start_time": "2025-06-19T06:13:21.664300",
     "status": "completed"
    },
    "tags": []
   },
   "outputs": [],
   "source": [
    "# only take necessary columns\n",
    "new_df = df.drop(columns={'App_Id','AppStore_Url','Currency','DeveloperId','Developer','Developer_Url','Developer_Website','Required_IOS_Version'})"
   ]
  },
  {
   "cell_type": "code",
   "execution_count": 23,
   "id": "9c937ebe",
   "metadata": {
    "execution": {
     "iopub.execute_input": "2025-06-19T06:13:21.835318Z",
     "iopub.status.busy": "2025-06-19T06:13:21.834987Z",
     "iopub.status.idle": "2025-06-19T06:13:22.248212Z",
     "shell.execute_reply": "2025-06-19T06:13:22.247112Z"
    },
    "papermill": {
     "duration": 0.432044,
     "end_time": "2025-06-19T06:13:22.249806",
     "exception": false,
     "start_time": "2025-06-19T06:13:21.817762",
     "status": "completed"
    },
    "tags": []
   },
   "outputs": [
    {
     "name": "stdout",
     "output_type": "stream",
     "text": [
      "<class 'pandas.core.frame.DataFrame'>\n",
      "RangeIndex: 1230376 entries, 0 to 1230375\n",
      "Data columns (total 13 columns):\n",
      " #   Column                   Non-Null Count    Dtype  \n",
      "---  ------                   --------------    -----  \n",
      " 0   App_Name                 1230375 non-null  object \n",
      " 1   Primary_Genre            1230376 non-null  object \n",
      " 2   Content_Rating           1230376 non-null  object \n",
      " 3   Size_Bytes               1230152 non-null  float64\n",
      " 4   Released                 1230373 non-null  object \n",
      " 5   Updated                  1230376 non-null  object \n",
      " 6   Version                  1230376 non-null  object \n",
      " 7   Price                    1229886 non-null  float64\n",
      " 8   Free                     1230376 non-null  bool   \n",
      " 9   Average_User_Rating      1230376 non-null  float64\n",
      " 10  Reviews                  1230376 non-null  int64  \n",
      " 11  Current_Version_Score    1230376 non-null  float64\n",
      " 12  Current_Version_Reviews  1230376 non-null  int64  \n",
      "dtypes: bool(1), float64(4), int64(2), object(6)\n",
      "memory usage: 113.8+ MB\n"
     ]
    }
   ],
   "source": [
    "new_df.info()"
   ]
  },
  {
   "cell_type": "code",
   "execution_count": 24,
   "id": "49c7b0b4",
   "metadata": {
    "execution": {
     "iopub.execute_input": "2025-06-19T06:13:22.277857Z",
     "iopub.status.busy": "2025-06-19T06:13:22.277479Z",
     "iopub.status.idle": "2025-06-19T06:13:22.687141Z",
     "shell.execute_reply": "2025-06-19T06:13:22.685909Z"
    },
    "papermill": {
     "duration": 0.425812,
     "end_time": "2025-06-19T06:13:22.688928",
     "exception": false,
     "start_time": "2025-06-19T06:13:22.263116",
     "status": "completed"
    },
    "tags": []
   },
   "outputs": [
    {
     "data": {
      "text/plain": [
       "App_Name                     1\n",
       "Primary_Genre                0\n",
       "Content_Rating               0\n",
       "Size_Bytes                 224\n",
       "Released                     3\n",
       "Updated                      0\n",
       "Version                      0\n",
       "Price                      490\n",
       "Free                         0\n",
       "Average_User_Rating          0\n",
       "Reviews                      0\n",
       "Current_Version_Score        0\n",
       "Current_Version_Reviews      0\n",
       "dtype: int64"
      ]
     },
     "execution_count": 24,
     "metadata": {},
     "output_type": "execute_result"
    }
   ],
   "source": [
    "new_df.isnull().sum()"
   ]
  },
  {
   "cell_type": "code",
   "execution_count": 25,
   "id": "a96a45b8",
   "metadata": {
    "execution": {
     "iopub.execute_input": "2025-06-19T06:13:22.717330Z",
     "iopub.status.busy": "2025-06-19T06:13:22.717019Z",
     "iopub.status.idle": "2025-06-19T06:13:22.723123Z",
     "shell.execute_reply": "2025-06-19T06:13:22.722027Z"
    },
    "papermill": {
     "duration": 0.021752,
     "end_time": "2025-06-19T06:13:22.724513",
     "exception": false,
     "start_time": "2025-06-19T06:13:22.702761",
     "status": "completed"
    },
    "tags": []
   },
   "outputs": [
    {
     "data": {
      "text/plain": [
       "Index(['App_Name', 'Primary_Genre', 'Content_Rating', 'Size_Bytes', 'Released',\n",
       "       'Updated', 'Version', 'Price', 'Free', 'Average_User_Rating', 'Reviews',\n",
       "       'Current_Version_Score', 'Current_Version_Reviews'],\n",
       "      dtype='object')"
      ]
     },
     "execution_count": 25,
     "metadata": {},
     "output_type": "execute_result"
    }
   ],
   "source": [
    "new_df.columns"
   ]
  },
  {
   "cell_type": "code",
   "execution_count": 26,
   "id": "c69a5a93",
   "metadata": {
    "execution": {
     "iopub.execute_input": "2025-06-19T06:13:22.753320Z",
     "iopub.status.busy": "2025-06-19T06:13:22.752965Z",
     "iopub.status.idle": "2025-06-19T06:13:22.758700Z",
     "shell.execute_reply": "2025-06-19T06:13:22.757733Z"
    },
    "papermill": {
     "duration": 0.021818,
     "end_time": "2025-06-19T06:13:22.760276",
     "exception": false,
     "start_time": "2025-06-19T06:13:22.738458",
     "status": "completed"
    },
    "tags": []
   },
   "outputs": [
    {
     "data": {
      "text/plain": [
       "(1230376, 13)"
      ]
     },
     "execution_count": 26,
     "metadata": {},
     "output_type": "execute_result"
    }
   ],
   "source": [
    "new_df.shape"
   ]
  },
  {
   "cell_type": "code",
   "execution_count": 27,
   "id": "54d131a7",
   "metadata": {
    "execution": {
     "iopub.execute_input": "2025-06-19T06:13:22.789111Z",
     "iopub.status.busy": "2025-06-19T06:13:22.788791Z",
     "iopub.status.idle": "2025-06-19T06:13:45.408677Z",
     "shell.execute_reply": "2025-06-19T06:13:45.407719Z"
    },
    "papermill": {
     "duration": 22.636335,
     "end_time": "2025-06-19T06:13:45.410633",
     "exception": false,
     "start_time": "2025-06-19T06:13:22.774298",
     "status": "completed"
    },
    "tags": []
   },
   "outputs": [
    {
     "data": {
      "text/plain": [
       "<Axes: >"
      ]
     },
     "execution_count": 27,
     "metadata": {},
     "output_type": "execute_result"
    },
    {
     "data": {
      "image/png": "[encoded data removed]",
      "text/plain": [
       "<Figure size 640x480 with 2 Axes>"
      ]
     },
     "metadata": {},
     "output_type": "display_data"
    }
   ],
   "source": [
    "sns.heatmap(new_df.isnull())"
   ]
  },
  {
   "cell_type": "markdown",
   "id": "2dcf1c25",
   "metadata": {
    "papermill": {
     "duration": 0.014241,
     "end_time": "2025-06-19T06:13:45.440043",
     "exception": false,
     "start_time": "2025-06-19T06:13:45.425802",
     "status": "completed"
    },
    "tags": []
   },
   "source": [
    "## As the Data is Huge so the missing values has no effect"
   ]
  },
  {
   "cell_type": "markdown",
   "id": "37df8763",
   "metadata": {
    "papermill": {
     "duration": 0.014308,
     "end_time": "2025-06-19T06:13:45.468719",
     "exception": false,
     "start_time": "2025-06-19T06:13:45.454411",
     "status": "completed"
    },
    "tags": []
   },
   "source": [
    "## Removing Missing Values"
   ]
  },
  {
   "cell_type": "code",
   "execution_count": 28,
   "id": "862736fa",
   "metadata": {
    "execution": {
     "iopub.execute_input": "2025-06-19T06:13:45.498972Z",
     "iopub.status.busy": "2025-06-19T06:13:45.498555Z",
     "iopub.status.idle": "2025-06-19T06:13:45.751053Z",
     "shell.execute_reply": "2025-06-19T06:13:45.750077Z"
    },
    "papermill": {
     "duration": 0.269621,
     "end_time": "2025-06-19T06:13:45.752794",
     "exception": false,
     "start_time": "2025-06-19T06:13:45.483173",
     "status": "completed"
    },
    "tags": []
   },
   "outputs": [],
   "source": [
    "new_df = new_df[new_df['App_Name'].notnull()]"
   ]
  },
  {
   "cell_type": "code",
   "execution_count": 29,
   "id": "46e3574d",
   "metadata": {
    "execution": {
     "iopub.execute_input": "2025-06-19T06:13:45.785810Z",
     "iopub.status.busy": "2025-06-19T06:13:45.785437Z",
     "iopub.status.idle": "2025-06-19T06:13:45.857634Z",
     "shell.execute_reply": "2025-06-19T06:13:45.856709Z"
    },
    "papermill": {
     "duration": 0.090941,
     "end_time": "2025-06-19T06:13:45.859478",
     "exception": false,
     "start_time": "2025-06-19T06:13:45.768537",
     "status": "completed"
    },
    "tags": []
   },
   "outputs": [
    {
     "data": {
      "text/plain": [
       "0"
      ]
     },
     "execution_count": 29,
     "metadata": {},
     "output_type": "execute_result"
    }
   ],
   "source": [
    "new_df['App_Name'].isnull().sum()"
   ]
  },
  {
   "cell_type": "code",
   "execution_count": 30,
   "id": "48dd22f2",
   "metadata": {
    "execution": {
     "iopub.execute_input": "2025-06-19T06:13:45.892576Z",
     "iopub.status.busy": "2025-06-19T06:13:45.892256Z",
     "iopub.status.idle": "2025-06-19T06:13:46.078047Z",
     "shell.execute_reply": "2025-06-19T06:13:46.076814Z"
    },
    "papermill": {
     "duration": 0.204721,
     "end_time": "2025-06-19T06:13:46.079784",
     "exception": false,
     "start_time": "2025-06-19T06:13:45.875063",
     "status": "completed"
    },
    "tags": []
   },
   "outputs": [],
   "source": [
    "new_df = new_df[new_df['Size_Bytes'].notnull()]"
   ]
  },
  {
   "cell_type": "code",
   "execution_count": 31,
   "id": "5e3fb400",
   "metadata": {
    "execution": {
     "iopub.execute_input": "2025-06-19T06:13:46.112679Z",
     "iopub.status.busy": "2025-06-19T06:13:46.112336Z",
     "iopub.status.idle": "2025-06-19T06:13:46.299345Z",
     "shell.execute_reply": "2025-06-19T06:13:46.298277Z"
    },
    "papermill": {
     "duration": 0.20567,
     "end_time": "2025-06-19T06:13:46.301178",
     "exception": false,
     "start_time": "2025-06-19T06:13:46.095508",
     "status": "completed"
    },
    "tags": []
   },
   "outputs": [],
   "source": [
    "new_df = new_df[new_df['Price'].notnull()]"
   ]
  },
  {
   "cell_type": "code",
   "execution_count": 32,
   "id": "2579628d",
   "metadata": {
    "execution": {
     "iopub.execute_input": "2025-06-19T06:13:46.332959Z",
     "iopub.status.busy": "2025-06-19T06:13:46.332617Z",
     "iopub.status.idle": "2025-06-19T06:13:46.749601Z",
     "shell.execute_reply": "2025-06-19T06:13:46.748739Z"
    },
    "papermill": {
     "duration": 0.434474,
     "end_time": "2025-06-19T06:13:46.751111",
     "exception": false,
     "start_time": "2025-06-19T06:13:46.316637",
     "status": "completed"
    },
    "tags": []
   },
   "outputs": [
    {
     "data": {
      "text/plain": [
       "App_Name                   0\n",
       "Primary_Genre              0\n",
       "Content_Rating             0\n",
       "Size_Bytes                 0\n",
       "Released                   0\n",
       "Updated                    0\n",
       "Version                    0\n",
       "Price                      0\n",
       "Free                       0\n",
       "Average_User_Rating        0\n",
       "Reviews                    0\n",
       "Current_Version_Score      0\n",
       "Current_Version_Reviews    0\n",
       "dtype: int64"
      ]
     },
     "execution_count": 32,
     "metadata": {},
     "output_type": "execute_result"
    }
   ],
   "source": [
    "new_df.isnull().sum()"
   ]
  },
  {
   "cell_type": "markdown",
   "id": "7c969226",
   "metadata": {
    "papermill": {
     "duration": 0.014693,
     "end_time": "2025-06-19T06:13:46.780820",
     "exception": false,
     "start_time": "2025-06-19T06:13:46.766127",
     "status": "completed"
    },
    "tags": []
   },
   "source": [
    "## Congrats all the missing value are removed"
   ]
  },
  {
   "cell_type": "code",
   "execution_count": 33,
   "id": "578c0448",
   "metadata": {
    "execution": {
     "iopub.execute_input": "2025-06-19T06:13:46.812457Z",
     "iopub.status.busy": "2025-06-19T06:13:46.812107Z",
     "iopub.status.idle": "2025-06-19T06:13:46.901555Z",
     "shell.execute_reply": "2025-06-19T06:13:46.900673Z"
    },
    "papermill": {
     "duration": 0.107253,
     "end_time": "2025-06-19T06:13:46.903055",
     "exception": false,
     "start_time": "2025-06-19T06:13:46.795802",
     "status": "completed"
    },
    "tags": []
   },
   "outputs": [
    {
     "data": {
      "text/html": [
       "<div>\n",
       "<style scoped>\n",
       "    .dataframe tbody tr th:only-of-type {\n",
       "        vertical-align: middle;\n",
       "    }\n",
       "\n",
       "    .dataframe tbody tr th {\n",
       "        vertical-align: top;\n",
       "    }\n",
       "\n",
       "    .dataframe thead th {\n",
       "        text-align: right;\n",
       "    }\n",
       "</style>\n",
       "<table border=\"1\" class=\"dataframe\">\n",
       "  <thead>\n",
       "    <tr style=\"text-align: right;\">\n",
       "      <th></th>\n",
       "      <th>App_Name</th>\n",
       "      <th>Primary_Genre</th>\n",
       "      <th>Content_Rating</th>\n",
       "      <th>Size_Bytes</th>\n",
       "      <th>Released</th>\n",
       "      <th>Updated</th>\n",
       "      <th>Version</th>\n",
       "      <th>Price</th>\n",
       "      <th>Free</th>\n",
       "      <th>Average_User_Rating</th>\n",
       "      <th>Reviews</th>\n",
       "      <th>Current_Version_Score</th>\n",
       "      <th>Current_Version_Reviews</th>\n",
       "    </tr>\n",
       "  </thead>\n",
       "  <tbody>\n",
       "    <tr>\n",
       "      <th>610487</th>\n",
       "      <td>Escape from Sin City</td>\n",
       "      <td>Games</td>\n",
       "      <td>12+</td>\n",
       "      <td>34765422.0</td>\n",
       "      <td>2016-11-21T23:48:05Z</td>\n",
       "      <td>2016-11-21T23:48:05Z</td>\n",
       "      <td>1.1</td>\n",
       "      <td>2.99</td>\n",
       "      <td>False</td>\n",
       "      <td>0.00000</td>\n",
       "      <td>0</td>\n",
       "      <td>0.00000</td>\n",
       "      <td>0</td>\n",
       "    </tr>\n",
       "    <tr>\n",
       "      <th>490048</th>\n",
       "      <td>My Shifts: Time Tracker</td>\n",
       "      <td>Productivity</td>\n",
       "      <td>4+</td>\n",
       "      <td>13149184.0</td>\n",
       "      <td>2013-09-01T01:18:35Z</td>\n",
       "      <td>2021-05-03T14:49:36Z</td>\n",
       "      <td>2.8.1</td>\n",
       "      <td>0.00</td>\n",
       "      <td>True</td>\n",
       "      <td>4.50000</td>\n",
       "      <td>4</td>\n",
       "      <td>4.50000</td>\n",
       "      <td>4</td>\n",
       "    </tr>\n",
       "    <tr>\n",
       "      <th>400896</th>\n",
       "      <td>Défi-Évasion Chez Soi – Audio</td>\n",
       "      <td>Entertainment</td>\n",
       "      <td>4+</td>\n",
       "      <td>97961984.0</td>\n",
       "      <td>2021-04-08T07:00:00Z</td>\n",
       "      <td>2021-04-15T08:22:37Z</td>\n",
       "      <td>1.0.1</td>\n",
       "      <td>0.00</td>\n",
       "      <td>True</td>\n",
       "      <td>0.00000</td>\n",
       "      <td>0</td>\n",
       "      <td>0.00000</td>\n",
       "      <td>0</td>\n",
       "    </tr>\n",
       "    <tr>\n",
       "      <th>981333</th>\n",
       "      <td>IMSA</td>\n",
       "      <td>Sports</td>\n",
       "      <td>12+</td>\n",
       "      <td>79300608.0</td>\n",
       "      <td>2014-01-10T04:03:39Z</td>\n",
       "      <td>2021-06-18T18:57:17Z</td>\n",
       "      <td>7.3.8</td>\n",
       "      <td>0.00</td>\n",
       "      <td>True</td>\n",
       "      <td>2.00538</td>\n",
       "      <td>186</td>\n",
       "      <td>2.00538</td>\n",
       "      <td>186</td>\n",
       "    </tr>\n",
       "    <tr>\n",
       "      <th>616268</th>\n",
       "      <td>Paradise Secret</td>\n",
       "      <td>Games</td>\n",
       "      <td>4+</td>\n",
       "      <td>20827136.0</td>\n",
       "      <td>2015-07-01T18:57:51Z</td>\n",
       "      <td>2015-07-01T18:57:51Z</td>\n",
       "      <td>1.0</td>\n",
       "      <td>0.00</td>\n",
       "      <td>True</td>\n",
       "      <td>1.00000</td>\n",
       "      <td>1</td>\n",
       "      <td>1.00000</td>\n",
       "      <td>1</td>\n",
       "    </tr>\n",
       "    <tr>\n",
       "      <th>146828</th>\n",
       "      <td>WIN EURASIA</td>\n",
       "      <td>Business</td>\n",
       "      <td>4+</td>\n",
       "      <td>59072512.0</td>\n",
       "      <td>2018-02-18T17:21:52Z</td>\n",
       "      <td>2020-03-12T18:27:05Z</td>\n",
       "      <td>1.5.4</td>\n",
       "      <td>0.00</td>\n",
       "      <td>True</td>\n",
       "      <td>0.00000</td>\n",
       "      <td>0</td>\n",
       "      <td>0.00000</td>\n",
       "      <td>0</td>\n",
       "    </tr>\n",
       "    <tr>\n",
       "      <th>268185</th>\n",
       "      <td>Fraud Magazine HD</td>\n",
       "      <td>Business</td>\n",
       "      <td>4+</td>\n",
       "      <td>18816000.0</td>\n",
       "      <td>2012-06-05T04:20:48Z</td>\n",
       "      <td>2019-12-18T23:25:22Z</td>\n",
       "      <td>7.1</td>\n",
       "      <td>0.00</td>\n",
       "      <td>True</td>\n",
       "      <td>4.00000</td>\n",
       "      <td>10</td>\n",
       "      <td>4.00000</td>\n",
       "      <td>10</td>\n",
       "    </tr>\n",
       "    <tr>\n",
       "      <th>739122</th>\n",
       "      <td>Maze Your Way Out</td>\n",
       "      <td>Games</td>\n",
       "      <td>4+</td>\n",
       "      <td>80747520.0</td>\n",
       "      <td>2020-03-20T07:00:00Z</td>\n",
       "      <td>2020-03-25T11:39:05Z</td>\n",
       "      <td>0.5</td>\n",
       "      <td>0.00</td>\n",
       "      <td>True</td>\n",
       "      <td>5.00000</td>\n",
       "      <td>3</td>\n",
       "      <td>5.00000</td>\n",
       "      <td>3</td>\n",
       "    </tr>\n",
       "    <tr>\n",
       "      <th>1024092</th>\n",
       "      <td>Tripoli - أخبار طرابلس</td>\n",
       "      <td>News</td>\n",
       "      <td>12+</td>\n",
       "      <td>7909376.0</td>\n",
       "      <td>2015-04-08T17:38:28Z</td>\n",
       "      <td>2017-02-21T22:46:11Z</td>\n",
       "      <td>1.6</td>\n",
       "      <td>0.00</td>\n",
       "      <td>True</td>\n",
       "      <td>0.00000</td>\n",
       "      <td>0</td>\n",
       "      <td>0.00000</td>\n",
       "      <td>0</td>\n",
       "    </tr>\n",
       "    <tr>\n",
       "      <th>472718</th>\n",
       "      <td>WOL - Wake on LAN</td>\n",
       "      <td>Utilities</td>\n",
       "      <td>4+</td>\n",
       "      <td>10086400.0</td>\n",
       "      <td>2016-04-22T04:15:42Z</td>\n",
       "      <td>2020-06-11T22:39:15Z</td>\n",
       "      <td>1.2</td>\n",
       "      <td>1.99</td>\n",
       "      <td>False</td>\n",
       "      <td>0.00000</td>\n",
       "      <td>0</td>\n",
       "      <td>0.00000</td>\n",
       "      <td>0</td>\n",
       "    </tr>\n",
       "  </tbody>\n",
       "</table>\n",
       "</div>"
      ],
      "text/plain": [
       "                              App_Name  Primary_Genre Content_Rating  \\\n",
       "610487            Escape from Sin City          Games            12+   \n",
       "490048         My Shifts: Time Tracker   Productivity             4+   \n",
       "400896   Défi-Évasion Chez Soi – Audio  Entertainment             4+   \n",
       "981333                            IMSA         Sports            12+   \n",
       "616268                 Paradise Secret          Games             4+   \n",
       "146828                     WIN EURASIA       Business             4+   \n",
       "268185               Fraud Magazine HD       Business             4+   \n",
       "739122               Maze Your Way Out          Games             4+   \n",
       "1024092         Tripoli - أخبار طرابلس           News            12+   \n",
       "472718               WOL - Wake on LAN      Utilities             4+   \n",
       "\n",
       "         Size_Bytes              Released               Updated Version  \\\n",
       "610487   34765422.0  2016-11-21T23:48:05Z  2016-11-21T23:48:05Z     1.1   \n",
       "490048   13149184.0  2013-09-01T01:18:35Z  2021-05-03T14:49:36Z   2.8.1   \n",
       "400896   97961984.0  2021-04-08T07:00:00Z  2021-04-15T08:22:37Z   1.0.1   \n",
       "981333   79300608.0  2014-01-10T04:03:39Z  2021-06-18T18:57:17Z   7.3.8   \n",
       "616268   20827136.0  2015-07-01T18:57:51Z  2015-07-01T18:57:51Z     1.0   \n",
       "146828   59072512.0  2018-02-18T17:21:52Z  2020-03-12T18:27:05Z   1.5.4   \n",
       "268185   18816000.0  2012-06-05T04:20:48Z  2019-12-18T23:25:22Z     7.1   \n",
       "739122   80747520.0  2020-03-20T07:00:00Z  2020-03-25T11:39:05Z     0.5   \n",
       "1024092   7909376.0  2015-04-08T17:38:28Z  2017-02-21T22:46:11Z     1.6   \n",
       "472718   10086400.0  2016-04-22T04:15:42Z  2020-06-11T22:39:15Z     1.2   \n",
       "\n",
       "         Price   Free  Average_User_Rating  Reviews  Current_Version_Score  \\\n",
       "610487    2.99  False              0.00000        0                0.00000   \n",
       "490048    0.00   True              4.50000        4                4.50000   \n",
       "400896    0.00   True              0.00000        0                0.00000   \n",
       "981333    0.00   True              2.00538      186                2.00538   \n",
       "616268    0.00   True              1.00000        1                1.00000   \n",
       "146828    0.00   True              0.00000        0                0.00000   \n",
       "268185    0.00   True              4.00000       10                4.00000   \n",
       "739122    0.00   True              5.00000        3                5.00000   \n",
       "1024092   0.00   True              0.00000        0                0.00000   \n",
       "472718    1.99  False              0.00000        0                0.00000   \n",
       "\n",
       "         Current_Version_Reviews  \n",
       "610487                         0  \n",
       "490048                         4  \n",
       "400896                         0  \n",
       "981333                       186  \n",
       "616268                         1  \n",
       "146828                         0  \n",
       "268185                        10  \n",
       "739122                         3  \n",
       "1024092                        0  \n",
       "472718                         0  "
      ]
     },
     "execution_count": 33,
     "metadata": {},
     "output_type": "execute_result"
    }
   ],
   "source": [
    "new_df.sample(10)"
   ]
  },
  {
   "cell_type": "code",
   "execution_count": 34,
   "id": "d3aed9ba",
   "metadata": {
    "execution": {
     "iopub.execute_input": "2025-06-19T06:13:46.946158Z",
     "iopub.status.busy": "2025-06-19T06:13:46.945801Z",
     "iopub.status.idle": "2025-06-19T06:13:48.372985Z",
     "shell.execute_reply": "2025-06-19T06:13:48.371824Z"
    },
    "papermill": {
     "duration": 1.447485,
     "end_time": "2025-06-19T06:13:48.374716",
     "exception": false,
     "start_time": "2025-06-19T06:13:46.927231",
     "status": "completed"
    },
    "tags": []
   },
   "outputs": [
    {
     "data": {
      "text/plain": [
       "App_Name\n",
       "Vanguard                    6\n",
       "Bloom                       5\n",
       "Linker                      5\n",
       "Momentum                    4\n",
       "Lume                        4\n",
       "                           ..\n",
       "Twine Garage                1\n",
       "Twippy                      1\n",
       "TwitMore                    1\n",
       "Two Factor Authenticator    1\n",
       "Sổ Điểm Thông Minh          1\n",
       "Name: count, Length: 1223023, dtype: int64"
      ]
     },
     "execution_count": 34,
     "metadata": {},
     "output_type": "execute_result"
    }
   ],
   "source": [
    "new_df['App_Name'].value_counts().sort_values(ascending=False)"
   ]
  },
  {
   "cell_type": "markdown",
   "id": "d1a57a18",
   "metadata": {
    "papermill": {
     "duration": 0.01674,
     "end_time": "2025-06-19T06:13:48.408086",
     "exception": false,
     "start_time": "2025-06-19T06:13:48.391346",
     "status": "completed"
    },
    "tags": []
   },
   "source": [
    "## Why some Apps has Duplicated values?"
   ]
  },
  {
   "cell_type": "code",
   "execution_count": 35,
   "id": "41d5ae60",
   "metadata": {
    "execution": {
     "iopub.execute_input": "2025-06-19T06:13:48.441344Z",
     "iopub.status.busy": "2025-06-19T06:13:48.441019Z",
     "iopub.status.idle": "2025-06-19T06:13:48.549957Z",
     "shell.execute_reply": "2025-06-19T06:13:48.548680Z"
    },
    "papermill": {
     "duration": 0.127625,
     "end_time": "2025-06-19T06:13:48.551950",
     "exception": false,
     "start_time": "2025-06-19T06:13:48.424325",
     "status": "completed"
    },
    "tags": []
   },
   "outputs": [
    {
     "data": {
      "text/html": [
       "<div>\n",
       "<style scoped>\n",
       "    .dataframe tbody tr th:only-of-type {\n",
       "        vertical-align: middle;\n",
       "    }\n",
       "\n",
       "    .dataframe tbody tr th {\n",
       "        vertical-align: top;\n",
       "    }\n",
       "\n",
       "    .dataframe thead th {\n",
       "        text-align: right;\n",
       "    }\n",
       "</style>\n",
       "<table border=\"1\" class=\"dataframe\">\n",
       "  <thead>\n",
       "    <tr style=\"text-align: right;\">\n",
       "      <th></th>\n",
       "      <th>App_Name</th>\n",
       "      <th>Primary_Genre</th>\n",
       "      <th>Content_Rating</th>\n",
       "      <th>Size_Bytes</th>\n",
       "      <th>Released</th>\n",
       "      <th>Updated</th>\n",
       "      <th>Version</th>\n",
       "      <th>Price</th>\n",
       "      <th>Free</th>\n",
       "      <th>Average_User_Rating</th>\n",
       "      <th>Reviews</th>\n",
       "      <th>Current_Version_Score</th>\n",
       "      <th>Current_Version_Reviews</th>\n",
       "    </tr>\n",
       "  </thead>\n",
       "  <tbody>\n",
       "    <tr>\n",
       "      <th>478488</th>\n",
       "      <td>Vanguard</td>\n",
       "      <td>Finance</td>\n",
       "      <td>4+</td>\n",
       "      <td>160800768.0</td>\n",
       "      <td>2009-10-24T19:14:54Z</td>\n",
       "      <td>2021-08-26T19:55:20Z</td>\n",
       "      <td>11.14</td>\n",
       "      <td>0.0</td>\n",
       "      <td>True</td>\n",
       "      <td>4.73977</td>\n",
       "      <td>167472</td>\n",
       "      <td>4.73977</td>\n",
       "      <td>167472</td>\n",
       "    </tr>\n",
       "    <tr>\n",
       "      <th>624553</th>\n",
       "      <td>Vanguard</td>\n",
       "      <td>Games</td>\n",
       "      <td>4+</td>\n",
       "      <td>191240192.0</td>\n",
       "      <td>2021-08-27T07:00:00Z</td>\n",
       "      <td>2021-08-27T12:16:53Z</td>\n",
       "      <td>1.0</td>\n",
       "      <td>0.0</td>\n",
       "      <td>True</td>\n",
       "      <td>3.00000</td>\n",
       "      <td>2</td>\n",
       "      <td>3.00000</td>\n",
       "      <td>2</td>\n",
       "    </tr>\n",
       "    <tr>\n",
       "      <th>871735</th>\n",
       "      <td>Vanguard</td>\n",
       "      <td>Lifestyle</td>\n",
       "      <td>4+</td>\n",
       "      <td>87821312.0</td>\n",
       "      <td>2020-03-25T07:00:00Z</td>\n",
       "      <td>2021-10-05T23:12:01Z</td>\n",
       "      <td>1.1.10</td>\n",
       "      <td>0.0</td>\n",
       "      <td>True</td>\n",
       "      <td>0.00000</td>\n",
       "      <td>0</td>\n",
       "      <td>0.00000</td>\n",
       "      <td>0</td>\n",
       "    </tr>\n",
       "    <tr>\n",
       "      <th>1024185</th>\n",
       "      <td>Vanguard</td>\n",
       "      <td>Productivity</td>\n",
       "      <td>17+</td>\n",
       "      <td>35228672.0</td>\n",
       "      <td>2021-06-11T07:00:00Z</td>\n",
       "      <td>2021-09-05T08:02:33Z</td>\n",
       "      <td>1.0.11</td>\n",
       "      <td>0.0</td>\n",
       "      <td>True</td>\n",
       "      <td>0.00000</td>\n",
       "      <td>0</td>\n",
       "      <td>0.00000</td>\n",
       "      <td>0</td>\n",
       "    </tr>\n",
       "    <tr>\n",
       "      <th>1066082</th>\n",
       "      <td>Vanguard</td>\n",
       "      <td>Reference</td>\n",
       "      <td>4+</td>\n",
       "      <td>24201216.0</td>\n",
       "      <td>2018-11-13T01:31:37Z</td>\n",
       "      <td>2021-03-24T12:38:41Z</td>\n",
       "      <td>1.1.2</td>\n",
       "      <td>0.0</td>\n",
       "      <td>True</td>\n",
       "      <td>0.00000</td>\n",
       "      <td>0</td>\n",
       "      <td>0.00000</td>\n",
       "      <td>0</td>\n",
       "    </tr>\n",
       "    <tr>\n",
       "      <th>1094792</th>\n",
       "      <td>Vanguard</td>\n",
       "      <td>Shopping</td>\n",
       "      <td>4+</td>\n",
       "      <td>68751360.0</td>\n",
       "      <td>2014-09-28T16:38:41Z</td>\n",
       "      <td>2021-07-26T09:36:18Z</td>\n",
       "      <td>2.114.14</td>\n",
       "      <td>0.0</td>\n",
       "      <td>True</td>\n",
       "      <td>5.00000</td>\n",
       "      <td>1</td>\n",
       "      <td>5.00000</td>\n",
       "      <td>1</td>\n",
       "    </tr>\n",
       "  </tbody>\n",
       "</table>\n",
       "</div>"
      ],
      "text/plain": [
       "         App_Name Primary_Genre Content_Rating   Size_Bytes  \\\n",
       "478488   Vanguard       Finance             4+  160800768.0   \n",
       "624553   Vanguard         Games             4+  191240192.0   \n",
       "871735   Vanguard     Lifestyle             4+   87821312.0   \n",
       "1024185  Vanguard  Productivity            17+   35228672.0   \n",
       "1066082  Vanguard     Reference             4+   24201216.0   \n",
       "1094792  Vanguard      Shopping             4+   68751360.0   \n",
       "\n",
       "                     Released               Updated   Version  Price  Free  \\\n",
       "478488   2009-10-24T19:14:54Z  2021-08-26T19:55:20Z     11.14    0.0  True   \n",
       "624553   2021-08-27T07:00:00Z  2021-08-27T12:16:53Z       1.0    0.0  True   \n",
       "871735   2020-03-25T07:00:00Z  2021-10-05T23:12:01Z    1.1.10    0.0  True   \n",
       "1024185  2021-06-11T07:00:00Z  2021-09-05T08:02:33Z    1.0.11    0.0  True   \n",
       "1066082  2018-11-13T01:31:37Z  2021-03-24T12:38:41Z     1.1.2    0.0  True   \n",
       "1094792  2014-09-28T16:38:41Z  2021-07-26T09:36:18Z  2.114.14    0.0  True   \n",
       "\n",
       "         Average_User_Rating  Reviews  Current_Version_Score  \\\n",
       "478488               4.73977   167472                4.73977   \n",
       "624553               3.00000        2                3.00000   \n",
       "871735               0.00000        0                0.00000   \n",
       "1024185              0.00000        0                0.00000   \n",
       "1066082              0.00000        0                0.00000   \n",
       "1094792              5.00000        1                5.00000   \n",
       "\n",
       "         Current_Version_Reviews  \n",
       "478488                    167472  \n",
       "624553                         2  \n",
       "871735                         0  \n",
       "1024185                        0  \n",
       "1066082                        0  \n",
       "1094792                        1  "
      ]
     },
     "execution_count": 35,
     "metadata": {},
     "output_type": "execute_result"
    }
   ],
   "source": [
    "new_df[new_df['App_Name']=='Vanguard']"
   ]
  },
  {
   "cell_type": "code",
   "execution_count": 36,
   "id": "79ce8d2b",
   "metadata": {
    "execution": {
     "iopub.execute_input": "2025-06-19T06:13:48.587399Z",
     "iopub.status.busy": "2025-06-19T06:13:48.587077Z",
     "iopub.status.idle": "2025-06-19T06:13:48.697513Z",
     "shell.execute_reply": "2025-06-19T06:13:48.696624Z"
    },
    "papermill": {
     "duration": 0.130653,
     "end_time": "2025-06-19T06:13:48.699347",
     "exception": false,
     "start_time": "2025-06-19T06:13:48.568694",
     "status": "completed"
    },
    "tags": []
   },
   "outputs": [
    {
     "data": {
      "text/html": [
       "<div>\n",
       "<style scoped>\n",
       "    .dataframe tbody tr th:only-of-type {\n",
       "        vertical-align: middle;\n",
       "    }\n",
       "\n",
       "    .dataframe tbody tr th {\n",
       "        vertical-align: top;\n",
       "    }\n",
       "\n",
       "    .dataframe thead th {\n",
       "        text-align: right;\n",
       "    }\n",
       "</style>\n",
       "<table border=\"1\" class=\"dataframe\">\n",
       "  <thead>\n",
       "    <tr style=\"text-align: right;\">\n",
       "      <th></th>\n",
       "      <th>App_Name</th>\n",
       "      <th>Primary_Genre</th>\n",
       "      <th>Content_Rating</th>\n",
       "      <th>Size_Bytes</th>\n",
       "      <th>Released</th>\n",
       "      <th>Updated</th>\n",
       "      <th>Version</th>\n",
       "      <th>Price</th>\n",
       "      <th>Free</th>\n",
       "      <th>Average_User_Rating</th>\n",
       "      <th>Reviews</th>\n",
       "      <th>Current_Version_Score</th>\n",
       "      <th>Current_Version_Reviews</th>\n",
       "    </tr>\n",
       "  </thead>\n",
       "  <tbody>\n",
       "    <tr>\n",
       "      <th>139096</th>\n",
       "      <td>Linker</td>\n",
       "      <td>Lifestyle</td>\n",
       "      <td>4+</td>\n",
       "      <td>21876736.0</td>\n",
       "      <td>2017-03-30T20:08:27Z</td>\n",
       "      <td>2018-06-14T20:39:23Z</td>\n",
       "      <td>1.0.14</td>\n",
       "      <td>0.0</td>\n",
       "      <td>True</td>\n",
       "      <td>0.0</td>\n",
       "      <td>0</td>\n",
       "      <td>0.0</td>\n",
       "      <td>0</td>\n",
       "    </tr>\n",
       "    <tr>\n",
       "      <th>462132</th>\n",
       "      <td>Linker</td>\n",
       "      <td>Finance</td>\n",
       "      <td>4+</td>\n",
       "      <td>169309184.0</td>\n",
       "      <td>2019-08-22T07:00:00Z</td>\n",
       "      <td>2021-10-01T16:08:21Z</td>\n",
       "      <td>2.0.3</td>\n",
       "      <td>0.0</td>\n",
       "      <td>True</td>\n",
       "      <td>4.4</td>\n",
       "      <td>5</td>\n",
       "      <td>4.4</td>\n",
       "      <td>5</td>\n",
       "    </tr>\n",
       "    <tr>\n",
       "      <th>745039</th>\n",
       "      <td>Linker</td>\n",
       "      <td>Health &amp; Fitness</td>\n",
       "      <td>4+</td>\n",
       "      <td>97497088.0</td>\n",
       "      <td>2021-03-30T07:00:00Z</td>\n",
       "      <td>2021-08-23T11:16:44Z</td>\n",
       "      <td>1.0.7</td>\n",
       "      <td>0.0</td>\n",
       "      <td>True</td>\n",
       "      <td>0.0</td>\n",
       "      <td>0</td>\n",
       "      <td>0.0</td>\n",
       "      <td>0</td>\n",
       "    </tr>\n",
       "    <tr>\n",
       "      <th>954862</th>\n",
       "      <td>Linker</td>\n",
       "      <td>Travel</td>\n",
       "      <td>4+</td>\n",
       "      <td>34196480.0</td>\n",
       "      <td>2017-05-16T11:32:18Z</td>\n",
       "      <td>2017-10-10T01:56:27Z</td>\n",
       "      <td>39.2</td>\n",
       "      <td>0.0</td>\n",
       "      <td>True</td>\n",
       "      <td>0.0</td>\n",
       "      <td>0</td>\n",
       "      <td>0.0</td>\n",
       "      <td>0</td>\n",
       "    </tr>\n",
       "    <tr>\n",
       "      <th>1206501</th>\n",
       "      <td>Linker</td>\n",
       "      <td>Utilities</td>\n",
       "      <td>4+</td>\n",
       "      <td>58948209.0</td>\n",
       "      <td>2017-05-30T19:54:25Z</td>\n",
       "      <td>2017-05-30T19:54:25Z</td>\n",
       "      <td>3.3.1</td>\n",
       "      <td>0.0</td>\n",
       "      <td>True</td>\n",
       "      <td>0.0</td>\n",
       "      <td>0</td>\n",
       "      <td>0.0</td>\n",
       "      <td>0</td>\n",
       "    </tr>\n",
       "  </tbody>\n",
       "</table>\n",
       "</div>"
      ],
      "text/plain": [
       "        App_Name     Primary_Genre Content_Rating   Size_Bytes  \\\n",
       "139096    Linker         Lifestyle             4+   21876736.0   \n",
       "462132    Linker           Finance             4+  169309184.0   \n",
       "745039    Linker  Health & Fitness             4+   97497088.0   \n",
       "954862    Linker            Travel             4+   34196480.0   \n",
       "1206501   Linker         Utilities             4+   58948209.0   \n",
       "\n",
       "                     Released               Updated Version  Price  Free  \\\n",
       "139096   2017-03-30T20:08:27Z  2018-06-14T20:39:23Z  1.0.14    0.0  True   \n",
       "462132   2019-08-22T07:00:00Z  2021-10-01T16:08:21Z   2.0.3    0.0  True   \n",
       "745039   2021-03-30T07:00:00Z  2021-08-23T11:16:44Z   1.0.7    0.0  True   \n",
       "954862   2017-05-16T11:32:18Z  2017-10-10T01:56:27Z    39.2    0.0  True   \n",
       "1206501  2017-05-30T19:54:25Z  2017-05-30T19:54:25Z   3.3.1    0.0  True   \n",
       "\n",
       "         Average_User_Rating  Reviews  Current_Version_Score  \\\n",
       "139096                   0.0        0                    0.0   \n",
       "462132                   4.4        5                    4.4   \n",
       "745039                   0.0        0                    0.0   \n",
       "954862                   0.0        0                    0.0   \n",
       "1206501                  0.0        0                    0.0   \n",
       "\n",
       "         Current_Version_Reviews  \n",
       "139096                         0  \n",
       "462132                         5  \n",
       "745039                         0  \n",
       "954862                         0  \n",
       "1206501                        0  "
      ]
     },
     "execution_count": 36,
     "metadata": {},
     "output_type": "execute_result"
    }
   ],
   "source": [
    "new_df[new_df['App_Name']=='Linker']"
   ]
  },
  {
   "cell_type": "markdown",
   "id": "5f100369",
   "metadata": {
    "papermill": {
     "duration": 0.017118,
     "end_time": "2025-06-19T06:13:48.732937",
     "exception": false,
     "start_time": "2025-06-19T06:13:48.715819",
     "status": "completed"
    },
    "tags": []
   },
   "source": [
    "### All the Duplicate Names of apps has different values So thay are not duplicated"
   ]
  },
  {
   "cell_type": "code",
   "execution_count": 37,
   "id": "55d98e4c",
   "metadata": {
    "execution": {
     "iopub.execute_input": "2025-06-19T06:13:48.766838Z",
     "iopub.status.busy": "2025-06-19T06:13:48.766458Z",
     "iopub.status.idle": "2025-06-19T06:13:49.088195Z",
     "shell.execute_reply": "2025-06-19T06:13:49.087234Z"
    },
    "papermill": {
     "duration": 0.340734,
     "end_time": "2025-06-19T06:13:49.090015",
     "exception": false,
     "start_time": "2025-06-19T06:13:48.749281",
     "status": "completed"
    },
    "tags": []
   },
   "outputs": [
    {
     "data": {
      "text/html": [
       "<div>\n",
       "<style scoped>\n",
       "    .dataframe tbody tr th:only-of-type {\n",
       "        vertical-align: middle;\n",
       "    }\n",
       "\n",
       "    .dataframe tbody tr th {\n",
       "        vertical-align: top;\n",
       "    }\n",
       "\n",
       "    .dataframe thead th {\n",
       "        text-align: right;\n",
       "    }\n",
       "</style>\n",
       "<table border=\"1\" class=\"dataframe\">\n",
       "  <thead>\n",
       "    <tr style=\"text-align: right;\">\n",
       "      <th></th>\n",
       "      <th>Size_Bytes</th>\n",
       "      <th>Price</th>\n",
       "      <th>Average_User_Rating</th>\n",
       "      <th>Reviews</th>\n",
       "      <th>Current_Version_Score</th>\n",
       "      <th>Current_Version_Reviews</th>\n",
       "    </tr>\n",
       "  </thead>\n",
       "  <tbody>\n",
       "    <tr>\n",
       "      <th>count</th>\n",
       "      <td>1.229885e+06</td>\n",
       "      <td>1.229885e+06</td>\n",
       "      <td>1.229885e+06</td>\n",
       "      <td>1.229885e+06</td>\n",
       "      <td>1.229885e+06</td>\n",
       "      <td>1.229885e+06</td>\n",
       "    </tr>\n",
       "    <tr>\n",
       "      <th>mean</th>\n",
       "      <td>7.506170e+07</td>\n",
       "      <td>5.041268e-01</td>\n",
       "      <td>1.788628e+00</td>\n",
       "      <td>8.260666e+02</td>\n",
       "      <td>1.788628e+00</td>\n",
       "      <td>8.260666e+02</td>\n",
       "    </tr>\n",
       "    <tr>\n",
       "      <th>std</th>\n",
       "      <td>2.318154e+08</td>\n",
       "      <td>6.869677e+00</td>\n",
       "      <td>2.154168e+00</td>\n",
       "      <td>5.017049e+04</td>\n",
       "      <td>2.154168e+00</td>\n",
       "      <td>5.017049e+04</td>\n",
       "    </tr>\n",
       "    <tr>\n",
       "      <th>min</th>\n",
       "      <td>2.762800e+04</td>\n",
       "      <td>0.000000e+00</td>\n",
       "      <td>0.000000e+00</td>\n",
       "      <td>0.000000e+00</td>\n",
       "      <td>0.000000e+00</td>\n",
       "      <td>0.000000e+00</td>\n",
       "    </tr>\n",
       "    <tr>\n",
       "      <th>25%</th>\n",
       "      <td>2.041139e+07</td>\n",
       "      <td>0.000000e+00</td>\n",
       "      <td>0.000000e+00</td>\n",
       "      <td>0.000000e+00</td>\n",
       "      <td>0.000000e+00</td>\n",
       "      <td>0.000000e+00</td>\n",
       "    </tr>\n",
       "    <tr>\n",
       "      <th>50%</th>\n",
       "      <td>4.332339e+07</td>\n",
       "      <td>0.000000e+00</td>\n",
       "      <td>0.000000e+00</td>\n",
       "      <td>0.000000e+00</td>\n",
       "      <td>0.000000e+00</td>\n",
       "      <td>0.000000e+00</td>\n",
       "    </tr>\n",
       "    <tr>\n",
       "      <th>75%</th>\n",
       "      <td>8.362598e+07</td>\n",
       "      <td>0.000000e+00</td>\n",
       "      <td>4.333330e+00</td>\n",
       "      <td>3.000000e+00</td>\n",
       "      <td>4.333330e+00</td>\n",
       "      <td>3.000000e+00</td>\n",
       "    </tr>\n",
       "    <tr>\n",
       "      <th>max</th>\n",
       "      <td>7.677945e+10</td>\n",
       "      <td>9.999900e+02</td>\n",
       "      <td>5.000000e+00</td>\n",
       "      <td>2.268533e+07</td>\n",
       "      <td>5.000000e+00</td>\n",
       "      <td>2.268533e+07</td>\n",
       "    </tr>\n",
       "  </tbody>\n",
       "</table>\n",
       "</div>"
      ],
      "text/plain": [
       "         Size_Bytes         Price  Average_User_Rating       Reviews  \\\n",
       "count  1.229885e+06  1.229885e+06         1.229885e+06  1.229885e+06   \n",
       "mean   7.506170e+07  5.041268e-01         1.788628e+00  8.260666e+02   \n",
       "std    2.318154e+08  6.869677e+00         2.154168e+00  5.017049e+04   \n",
       "min    2.762800e+04  0.000000e+00         0.000000e+00  0.000000e+00   \n",
       "25%    2.041139e+07  0.000000e+00         0.000000e+00  0.000000e+00   \n",
       "50%    4.332339e+07  0.000000e+00         0.000000e+00  0.000000e+00   \n",
       "75%    8.362598e+07  0.000000e+00         4.333330e+00  3.000000e+00   \n",
       "max    7.677945e+10  9.999900e+02         5.000000e+00  2.268533e+07   \n",
       "\n",
       "       Current_Version_Score  Current_Version_Reviews  \n",
       "count           1.229885e+06             1.229885e+06  \n",
       "mean            1.788628e+00             8.260666e+02  \n",
       "std             2.154168e+00             5.017049e+04  \n",
       "min             0.000000e+00             0.000000e+00  \n",
       "25%             0.000000e+00             0.000000e+00  \n",
       "50%             0.000000e+00             0.000000e+00  \n",
       "75%             4.333330e+00             3.000000e+00  \n",
       "max             5.000000e+00             2.268533e+07  "
      ]
     },
     "execution_count": 37,
     "metadata": {},
     "output_type": "execute_result"
    }
   ],
   "source": [
    "new_df.describe()"
   ]
  },
  {
   "cell_type": "code",
   "execution_count": 38,
   "id": "cda24efe",
   "metadata": {
    "execution": {
     "iopub.execute_input": "2025-06-19T06:13:49.129773Z",
     "iopub.status.busy": "2025-06-19T06:13:49.129374Z",
     "iopub.status.idle": "2025-06-19T06:13:49.231154Z",
     "shell.execute_reply": "2025-06-19T06:13:49.230278Z"
    },
    "papermill": {
     "duration": 0.12491,
     "end_time": "2025-06-19T06:13:49.232835",
     "exception": false,
     "start_time": "2025-06-19T06:13:49.107925",
     "status": "completed"
    },
    "tags": []
   },
   "outputs": [
    {
     "data": {
      "text/plain": [
       "Content_Rating\n",
       "4+               980708\n",
       "17+              124105\n",
       "12+               89453\n",
       "9+                35609\n",
       "Not yet rated        10\n",
       "Name: count, dtype: int64"
      ]
     },
     "execution_count": 38,
     "metadata": {},
     "output_type": "execute_result"
    }
   ],
   "source": [
    "new_df['Content_Rating'].value_counts()"
   ]
  },
  {
   "cell_type": "code",
   "execution_count": 39,
   "id": "56374b2d",
   "metadata": {
    "execution": {
     "iopub.execute_input": "2025-06-19T06:13:49.268560Z",
     "iopub.status.busy": "2025-06-19T06:13:49.268270Z",
     "iopub.status.idle": "2025-06-19T06:13:49.367211Z",
     "shell.execute_reply": "2025-06-19T06:13:49.366195Z"
    },
    "papermill": {
     "duration": 0.119204,
     "end_time": "2025-06-19T06:13:49.368761",
     "exception": false,
     "start_time": "2025-06-19T06:13:49.249557",
     "status": "completed"
    },
    "tags": []
   },
   "outputs": [
    {
     "data": {
      "text/plain": [
       "0    4+\n",
       "Name: Content_Rating, dtype: object"
      ]
     },
     "execution_count": 39,
     "metadata": {},
     "output_type": "execute_result"
    }
   ],
   "source": [
    "new_df['Content_Rating'].mode()"
   ]
  },
  {
   "cell_type": "code",
   "execution_count": 40,
   "id": "d1e9b6a5",
   "metadata": {
    "execution": {
     "iopub.execute_input": "2025-06-19T06:13:49.404114Z",
     "iopub.status.busy": "2025-06-19T06:13:49.403822Z",
     "iopub.status.idle": "2025-06-19T06:13:49.509719Z",
     "shell.execute_reply": "2025-06-19T06:13:49.508882Z"
    },
    "papermill": {
     "duration": 0.12492,
     "end_time": "2025-06-19T06:13:49.511104",
     "exception": false,
     "start_time": "2025-06-19T06:13:49.386184",
     "status": "completed"
    },
    "tags": []
   },
   "outputs": [
    {
     "data": {
      "text/html": [
       "<div>\n",
       "<style scoped>\n",
       "    .dataframe tbody tr th:only-of-type {\n",
       "        vertical-align: middle;\n",
       "    }\n",
       "\n",
       "    .dataframe tbody tr th {\n",
       "        vertical-align: top;\n",
       "    }\n",
       "\n",
       "    .dataframe thead th {\n",
       "        text-align: right;\n",
       "    }\n",
       "</style>\n",
       "<table border=\"1\" class=\"dataframe\">\n",
       "  <thead>\n",
       "    <tr style=\"text-align: right;\">\n",
       "      <th></th>\n",
       "      <th>App_Name</th>\n",
       "      <th>Primary_Genre</th>\n",
       "      <th>Content_Rating</th>\n",
       "      <th>Size_Bytes</th>\n",
       "      <th>Released</th>\n",
       "      <th>Updated</th>\n",
       "      <th>Version</th>\n",
       "      <th>Price</th>\n",
       "      <th>Free</th>\n",
       "      <th>Average_User_Rating</th>\n",
       "      <th>Reviews</th>\n",
       "      <th>Current_Version_Score</th>\n",
       "      <th>Current_Version_Reviews</th>\n",
       "    </tr>\n",
       "  </thead>\n",
       "  <tbody>\n",
       "    <tr>\n",
       "      <th>20678</th>\n",
       "      <td>Jazel</td>\n",
       "      <td>Business</td>\n",
       "      <td>Not yet rated</td>\n",
       "      <td>273401.0</td>\n",
       "      <td>2009-06-04T17:49:32Z</td>\n",
       "      <td>2009-06-04T17:49:32Z</td>\n",
       "      <td>0.9</td>\n",
       "      <td>0.00</td>\n",
       "      <td>True</td>\n",
       "      <td>2.85714</td>\n",
       "      <td>7</td>\n",
       "      <td>2.85714</td>\n",
       "      <td>7</td>\n",
       "    </tr>\n",
       "    <tr>\n",
       "      <th>162278</th>\n",
       "      <td>Financial Power</td>\n",
       "      <td>Education</td>\n",
       "      <td>Not yet rated</td>\n",
       "      <td>161049600.0</td>\n",
       "      <td>2021-01-07T08:00:00Z</td>\n",
       "      <td>2021-04-08T11:19:18Z</td>\n",
       "      <td>1.0.3</td>\n",
       "      <td>4.99</td>\n",
       "      <td>False</td>\n",
       "      <td>0.00000</td>\n",
       "      <td>0</td>\n",
       "      <td>0.00000</td>\n",
       "      <td>0</td>\n",
       "    </tr>\n",
       "    <tr>\n",
       "      <th>243261</th>\n",
       "      <td>IPTV Streamer Max</td>\n",
       "      <td>Photo &amp; Video</td>\n",
       "      <td>Not yet rated</td>\n",
       "      <td>57259008.0</td>\n",
       "      <td>2021-05-03T07:00:00Z</td>\n",
       "      <td>2021-10-13T01:03:28Z</td>\n",
       "      <td>1.0</td>\n",
       "      <td>0.00</td>\n",
       "      <td>True</td>\n",
       "      <td>0.00000</td>\n",
       "      <td>0</td>\n",
       "      <td>0.00000</td>\n",
       "      <td>0</td>\n",
       "    </tr>\n",
       "    <tr>\n",
       "      <th>296302</th>\n",
       "      <td>FL SPORT</td>\n",
       "      <td>Sports</td>\n",
       "      <td>Not yet rated</td>\n",
       "      <td>19896320.0</td>\n",
       "      <td>2021-02-17T08:00:00Z</td>\n",
       "      <td>2021-02-17T08:00:00Z</td>\n",
       "      <td>1.2.6</td>\n",
       "      <td>0.00</td>\n",
       "      <td>True</td>\n",
       "      <td>0.00000</td>\n",
       "      <td>0</td>\n",
       "      <td>0.00000</td>\n",
       "      <td>0</td>\n",
       "    </tr>\n",
       "    <tr>\n",
       "      <th>461280</th>\n",
       "      <td>FICA Collider</td>\n",
       "      <td>Finance</td>\n",
       "      <td>Not yet rated</td>\n",
       "      <td>116542.0</td>\n",
       "      <td>2009-02-27T03:56:01Z</td>\n",
       "      <td>2009-02-27T03:56:01Z</td>\n",
       "      <td>1.0.0</td>\n",
       "      <td>0.99</td>\n",
       "      <td>False</td>\n",
       "      <td>3.00000</td>\n",
       "      <td>2</td>\n",
       "      <td>3.00000</td>\n",
       "      <td>2</td>\n",
       "    </tr>\n",
       "    <tr>\n",
       "      <th>478839</th>\n",
       "      <td>VAT Deluxe</td>\n",
       "      <td>Finance</td>\n",
       "      <td>Not yet rated</td>\n",
       "      <td>288520.0</td>\n",
       "      <td>2008-11-15T07:58:25Z</td>\n",
       "      <td>2008-11-22T01:20:04Z</td>\n",
       "      <td>1.0.1</td>\n",
       "      <td>0.99</td>\n",
       "      <td>False</td>\n",
       "      <td>0.00000</td>\n",
       "      <td>0</td>\n",
       "      <td>0.00000</td>\n",
       "      <td>0</td>\n",
       "    </tr>\n",
       "    <tr>\n",
       "      <th>628879</th>\n",
       "      <td>Cowbell Fever</td>\n",
       "      <td>Entertainment</td>\n",
       "      <td>Not yet rated</td>\n",
       "      <td>1209720.0</td>\n",
       "      <td>2009-03-31T14:10:50Z</td>\n",
       "      <td>2009-03-31T14:10:50Z</td>\n",
       "      <td>1.0</td>\n",
       "      <td>0.00</td>\n",
       "      <td>True</td>\n",
       "      <td>2.46309</td>\n",
       "      <td>1924</td>\n",
       "      <td>2.46309</td>\n",
       "      <td>1924</td>\n",
       "    </tr>\n",
       "    <tr>\n",
       "      <th>864422</th>\n",
       "      <td>Table Clock</td>\n",
       "      <td>Utilities</td>\n",
       "      <td>Not yet rated</td>\n",
       "      <td>948645.0</td>\n",
       "      <td>2009-01-15T17:50:55Z</td>\n",
       "      <td>2009-01-15T17:50:55Z</td>\n",
       "      <td>1.0</td>\n",
       "      <td>0.99</td>\n",
       "      <td>False</td>\n",
       "      <td>2.81250</td>\n",
       "      <td>16</td>\n",
       "      <td>2.81250</td>\n",
       "      <td>16</td>\n",
       "    </tr>\n",
       "    <tr>\n",
       "      <th>990466</th>\n",
       "      <td>Speedometer</td>\n",
       "      <td>Navigation</td>\n",
       "      <td>Not yet rated</td>\n",
       "      <td>86305.0</td>\n",
       "      <td>2019-02-11T08:00:00Z</td>\n",
       "      <td>2019-02-11T08:00:00Z</td>\n",
       "      <td>2.0</td>\n",
       "      <td>0.00</td>\n",
       "      <td>True</td>\n",
       "      <td>2.25773</td>\n",
       "      <td>13801</td>\n",
       "      <td>2.25773</td>\n",
       "      <td>13801</td>\n",
       "    </tr>\n",
       "    <tr>\n",
       "      <th>1023831</th>\n",
       "      <td>Paket Status</td>\n",
       "      <td>Utilities</td>\n",
       "      <td>Not yet rated</td>\n",
       "      <td>1060780.0</td>\n",
       "      <td>2008-10-30T18:12:31Z</td>\n",
       "      <td>2008-11-06T01:04:23Z</td>\n",
       "      <td>1.1</td>\n",
       "      <td>0.99</td>\n",
       "      <td>False</td>\n",
       "      <td>0.00000</td>\n",
       "      <td>0</td>\n",
       "      <td>0.00000</td>\n",
       "      <td>0</td>\n",
       "    </tr>\n",
       "  </tbody>\n",
       "</table>\n",
       "</div>"
      ],
      "text/plain": [
       "                  App_Name  Primary_Genre Content_Rating   Size_Bytes  \\\n",
       "20678                Jazel       Business  Not yet rated     273401.0   \n",
       "162278     Financial Power      Education  Not yet rated  161049600.0   \n",
       "243261   IPTV Streamer Max  Photo & Video  Not yet rated   57259008.0   \n",
       "296302            FL SPORT         Sports  Not yet rated   19896320.0   \n",
       "461280       FICA Collider        Finance  Not yet rated     116542.0   \n",
       "478839          VAT Deluxe        Finance  Not yet rated     288520.0   \n",
       "628879       Cowbell Fever  Entertainment  Not yet rated    1209720.0   \n",
       "864422         Table Clock      Utilities  Not yet rated     948645.0   \n",
       "990466         Speedometer     Navigation  Not yet rated      86305.0   \n",
       "1023831       Paket Status      Utilities  Not yet rated    1060780.0   \n",
       "\n",
       "                     Released               Updated Version  Price   Free  \\\n",
       "20678    2009-06-04T17:49:32Z  2009-06-04T17:49:32Z     0.9   0.00   True   \n",
       "162278   2021-01-07T08:00:00Z  2021-04-08T11:19:18Z   1.0.3   4.99  False   \n",
       "243261   2021-05-03T07:00:00Z  2021-10-13T01:03:28Z     1.0   0.00   True   \n",
       "296302   2021-02-17T08:00:00Z  2021-02-17T08:00:00Z   1.2.6   0.00   True   \n",
       "461280   2009-02-27T03:56:01Z  2009-02-27T03:56:01Z   1.0.0   0.99  False   \n",
       "478839   2008-11-15T07:58:25Z  2008-11-22T01:20:04Z   1.0.1   0.99  False   \n",
       "628879   2009-03-31T14:10:50Z  2009-03-31T14:10:50Z     1.0   0.00   True   \n",
       "864422   2009-01-15T17:50:55Z  2009-01-15T17:50:55Z     1.0   0.99  False   \n",
       "990466   2019-02-11T08:00:00Z  2019-02-11T08:00:00Z     2.0   0.00   True   \n",
       "1023831  2008-10-30T18:12:31Z  2008-11-06T01:04:23Z     1.1   0.99  False   \n",
       "\n",
       "         Average_User_Rating  Reviews  Current_Version_Score  \\\n",
       "20678                2.85714        7                2.85714   \n",
       "162278               0.00000        0                0.00000   \n",
       "243261               0.00000        0                0.00000   \n",
       "296302               0.00000        0                0.00000   \n",
       "461280               3.00000        2                3.00000   \n",
       "478839               0.00000        0                0.00000   \n",
       "628879               2.46309     1924                2.46309   \n",
       "864422               2.81250       16                2.81250   \n",
       "990466               2.25773    13801                2.25773   \n",
       "1023831              0.00000        0                0.00000   \n",
       "\n",
       "         Current_Version_Reviews  \n",
       "20678                          7  \n",
       "162278                         0  \n",
       "243261                         0  \n",
       "296302                         0  \n",
       "461280                         2  \n",
       "478839                         0  \n",
       "628879                      1924  \n",
       "864422                        16  \n",
       "990466                     13801  \n",
       "1023831                        0  "
      ]
     },
     "execution_count": 40,
     "metadata": {},
     "output_type": "execute_result"
    }
   ],
   "source": [
    "new_df[new_df['Content_Rating']=='Not yet rated']"
   ]
  },
  {
   "cell_type": "markdown",
   "id": "0bca7702",
   "metadata": {
    "papermill": {
     "duration": 0.017873,
     "end_time": "2025-06-19T06:13:49.547039",
     "exception": false,
     "start_time": "2025-06-19T06:13:49.529166",
     "status": "completed"
    },
    "tags": []
   },
   "source": [
    "## Now Let's add a new columns"
   ]
  },
  {
   "cell_type": "code",
   "execution_count": 41,
   "id": "90e379c9",
   "metadata": {
    "execution": {
     "iopub.execute_input": "2025-06-19T06:13:49.583994Z",
     "iopub.status.busy": "2025-06-19T06:13:49.583599Z",
     "iopub.status.idle": "2025-06-19T06:13:49.760578Z",
     "shell.execute_reply": "2025-06-19T06:13:49.759458Z"
    },
    "papermill": {
     "duration": 0.197455,
     "end_time": "2025-06-19T06:13:49.762497",
     "exception": false,
     "start_time": "2025-06-19T06:13:49.565042",
     "status": "completed"
    },
    "tags": []
   },
   "outputs": [],
   "source": [
    "new_df['Size_MB'] = new_df['Size_Bytes']/(1024**2)\n",
    "new_df.drop(['Size_Bytes'],axis=1, inplace=True)"
   ]
  },
  {
   "cell_type": "code",
   "execution_count": 42,
   "id": "9ec7def7",
   "metadata": {
    "execution": {
     "iopub.execute_input": "2025-06-19T06:13:49.802336Z",
     "iopub.status.busy": "2025-06-19T06:13:49.802017Z",
     "iopub.status.idle": "2025-06-19T06:13:49.819131Z",
     "shell.execute_reply": "2025-06-19T06:13:49.817736Z"
    },
    "papermill": {
     "duration": 0.038455,
     "end_time": "2025-06-19T06:13:49.821700",
     "exception": false,
     "start_time": "2025-06-19T06:13:49.783245",
     "status": "completed"
    },
    "tags": []
   },
   "outputs": [
    {
     "data": {
      "text/html": [
       "<div>\n",
       "<style scoped>\n",
       "    .dataframe tbody tr th:only-of-type {\n",
       "        vertical-align: middle;\n",
       "    }\n",
       "\n",
       "    .dataframe tbody tr th {\n",
       "        vertical-align: top;\n",
       "    }\n",
       "\n",
       "    .dataframe thead th {\n",
       "        text-align: right;\n",
       "    }\n",
       "</style>\n",
       "<table border=\"1\" class=\"dataframe\">\n",
       "  <thead>\n",
       "    <tr style=\"text-align: right;\">\n",
       "      <th></th>\n",
       "      <th>App_Name</th>\n",
       "      <th>Primary_Genre</th>\n",
       "      <th>Content_Rating</th>\n",
       "      <th>Released</th>\n",
       "      <th>Updated</th>\n",
       "      <th>Version</th>\n",
       "      <th>Price</th>\n",
       "      <th>Free</th>\n",
       "      <th>Average_User_Rating</th>\n",
       "      <th>Reviews</th>\n",
       "      <th>Current_Version_Score</th>\n",
       "      <th>Current_Version_Reviews</th>\n",
       "      <th>Size_MB</th>\n",
       "    </tr>\n",
       "  </thead>\n",
       "  <tbody>\n",
       "    <tr>\n",
       "      <th>1230371</th>\n",
       "      <td>Sесurity АdBlосkеr</td>\n",
       "      <td>Utilities</td>\n",
       "      <td>4+</td>\n",
       "      <td>2020-07-07T07:00:00Z</td>\n",
       "      <td>2020-07-10T00:48:50Z</td>\n",
       "      <td>1.0.1</td>\n",
       "      <td>0.0</td>\n",
       "      <td>True</td>\n",
       "      <td>3.91608</td>\n",
       "      <td>143</td>\n",
       "      <td>3.91608</td>\n",
       "      <td>143</td>\n",
       "      <td>15.894531</td>\n",
       "    </tr>\n",
       "    <tr>\n",
       "      <th>1230372</th>\n",
       "      <td>SесurеХ VРN - Wifi Proxy</td>\n",
       "      <td>Utilities</td>\n",
       "      <td>4+</td>\n",
       "      <td>2019-02-12T10:10:13Z</td>\n",
       "      <td>2020-10-21T23:25:15Z</td>\n",
       "      <td>1.1</td>\n",
       "      <td>0.0</td>\n",
       "      <td>True</td>\n",
       "      <td>4.82733</td>\n",
       "      <td>1500</td>\n",
       "      <td>4.82733</td>\n",
       "      <td>1500</td>\n",
       "      <td>37.208984</td>\n",
       "    </tr>\n",
       "    <tr>\n",
       "      <th>1230373</th>\n",
       "      <td>Sổ tay Xây dựng</td>\n",
       "      <td>Utilities</td>\n",
       "      <td>4+</td>\n",
       "      <td>2018-10-17T04:22:41Z</td>\n",
       "      <td>2018-10-17T04:22:41Z</td>\n",
       "      <td>1.0</td>\n",
       "      <td>0.0</td>\n",
       "      <td>True</td>\n",
       "      <td>4.00000</td>\n",
       "      <td>1</td>\n",
       "      <td>4.00000</td>\n",
       "      <td>1</td>\n",
       "      <td>16.425781</td>\n",
       "    </tr>\n",
       "    <tr>\n",
       "      <th>1230374</th>\n",
       "      <td>Sổ tay đảng viên Thái Bình</td>\n",
       "      <td>Utilities</td>\n",
       "      <td>4+</td>\n",
       "      <td>2021-02-20T08:00:00Z</td>\n",
       "      <td>2021-10-02T22:00:19Z</td>\n",
       "      <td>1.2.5</td>\n",
       "      <td>0.0</td>\n",
       "      <td>True</td>\n",
       "      <td>0.00000</td>\n",
       "      <td>0</td>\n",
       "      <td>0.00000</td>\n",
       "      <td>0</td>\n",
       "      <td>54.088867</td>\n",
       "    </tr>\n",
       "    <tr>\n",
       "      <th>1230375</th>\n",
       "      <td>Sổ Điểm Thông Minh</td>\n",
       "      <td>Utilities</td>\n",
       "      <td>4+</td>\n",
       "      <td>2018-06-05T07:45:41Z</td>\n",
       "      <td>2019-05-21T22:03:17Z</td>\n",
       "      <td>1.9</td>\n",
       "      <td>0.0</td>\n",
       "      <td>True</td>\n",
       "      <td>0.00000</td>\n",
       "      <td>0</td>\n",
       "      <td>0.00000</td>\n",
       "      <td>0</td>\n",
       "      <td>81.191406</td>\n",
       "    </tr>\n",
       "  </tbody>\n",
       "</table>\n",
       "</div>"
      ],
      "text/plain": [
       "                           App_Name Primary_Genre Content_Rating  \\\n",
       "1230371          Sесurity АdBlосkеr     Utilities             4+   \n",
       "1230372    SесurеХ VРN - Wifi Proxy     Utilities             4+   \n",
       "1230373             Sổ tay Xây dựng     Utilities             4+   \n",
       "1230374  Sổ tay đảng viên Thái Bình     Utilities             4+   \n",
       "1230375          Sổ Điểm Thông Minh     Utilities             4+   \n",
       "\n",
       "                     Released               Updated Version  Price  Free  \\\n",
       "1230371  2020-07-07T07:00:00Z  2020-07-10T00:48:50Z   1.0.1    0.0  True   \n",
       "1230372  2019-02-12T10:10:13Z  2020-10-21T23:25:15Z     1.1    0.0  True   \n",
       "1230373  2018-10-17T04:22:41Z  2018-10-17T04:22:41Z     1.0    0.0  True   \n",
       "1230374  2021-02-20T08:00:00Z  2021-10-02T22:00:19Z   1.2.5    0.0  True   \n",
       "1230375  2018-06-05T07:45:41Z  2019-05-21T22:03:17Z     1.9    0.0  True   \n",
       "\n",
       "         Average_User_Rating  Reviews  Current_Version_Score  \\\n",
       "1230371              3.91608      143                3.91608   \n",
       "1230372              4.82733     1500                4.82733   \n",
       "1230373              4.00000        1                4.00000   \n",
       "1230374              0.00000        0                0.00000   \n",
       "1230375              0.00000        0                0.00000   \n",
       "\n",
       "         Current_Version_Reviews    Size_MB  \n",
       "1230371                      143  15.894531  \n",
       "1230372                     1500  37.208984  \n",
       "1230373                        1  16.425781  \n",
       "1230374                        0  54.088867  \n",
       "1230375                        0  81.191406  "
      ]
     },
     "execution_count": 42,
     "metadata": {},
     "output_type": "execute_result"
    }
   ],
   "source": [
    "new_df.tail()"
   ]
  },
  {
   "cell_type": "code",
   "execution_count": 43,
   "id": "0587028c",
   "metadata": {
    "execution": {
     "iopub.execute_input": "2025-06-19T06:13:49.862438Z",
     "iopub.status.busy": "2025-06-19T06:13:49.862109Z",
     "iopub.status.idle": "2025-06-19T06:13:49.866436Z",
     "shell.execute_reply": "2025-06-19T06:13:49.865480Z"
    },
    "papermill": {
     "duration": 0.025766,
     "end_time": "2025-06-19T06:13:49.868242",
     "exception": false,
     "start_time": "2025-06-19T06:13:49.842476",
     "status": "completed"
    },
    "tags": []
   },
   "outputs": [],
   "source": [
    "# new_df['Type'] = np.where(new_df['Free']==True,'Free','Paid')\n",
    "# new_df.drop(['Free'],axis=1, inplace=True)"
   ]
  },
  {
   "cell_type": "code",
   "execution_count": 44,
   "id": "c67411e5",
   "metadata": {
    "execution": {
     "iopub.execute_input": "2025-06-19T06:13:49.905561Z",
     "iopub.status.busy": "2025-06-19T06:13:49.905286Z",
     "iopub.status.idle": "2025-06-19T06:13:49.920276Z",
     "shell.execute_reply": "2025-06-19T06:13:49.919383Z"
    },
    "papermill": {
     "duration": 0.035168,
     "end_time": "2025-06-19T06:13:49.921752",
     "exception": false,
     "start_time": "2025-06-19T06:13:49.886584",
     "status": "completed"
    },
    "tags": []
   },
   "outputs": [
    {
     "data": {
      "text/html": [
       "<div>\n",
       "<style scoped>\n",
       "    .dataframe tbody tr th:only-of-type {\n",
       "        vertical-align: middle;\n",
       "    }\n",
       "\n",
       "    .dataframe tbody tr th {\n",
       "        vertical-align: top;\n",
       "    }\n",
       "\n",
       "    .dataframe thead th {\n",
       "        text-align: right;\n",
       "    }\n",
       "</style>\n",
       "<table border=\"1\" class=\"dataframe\">\n",
       "  <thead>\n",
       "    <tr style=\"text-align: right;\">\n",
       "      <th></th>\n",
       "      <th>App_Name</th>\n",
       "      <th>Primary_Genre</th>\n",
       "      <th>Content_Rating</th>\n",
       "      <th>Released</th>\n",
       "      <th>Updated</th>\n",
       "      <th>Version</th>\n",
       "      <th>Price</th>\n",
       "      <th>Free</th>\n",
       "      <th>Average_User_Rating</th>\n",
       "      <th>Reviews</th>\n",
       "      <th>Current_Version_Score</th>\n",
       "      <th>Current_Version_Reviews</th>\n",
       "      <th>Size_MB</th>\n",
       "    </tr>\n",
       "  </thead>\n",
       "  <tbody>\n",
       "    <tr>\n",
       "      <th>0</th>\n",
       "      <td>A+ Paper Guide</td>\n",
       "      <td>Education</td>\n",
       "      <td>4+</td>\n",
       "      <td>2017-09-28T03:02:41Z</td>\n",
       "      <td>2018-12-21T21:30:36Z</td>\n",
       "      <td>1.1.2</td>\n",
       "      <td>0.0</td>\n",
       "      <td>True</td>\n",
       "      <td>0.0</td>\n",
       "      <td>0</td>\n",
       "      <td>0.0</td>\n",
       "      <td>0</td>\n",
       "      <td>20.974609</td>\n",
       "    </tr>\n",
       "    <tr>\n",
       "      <th>1</th>\n",
       "      <td>A-Books</td>\n",
       "      <td>Book</td>\n",
       "      <td>4+</td>\n",
       "      <td>2015-08-31T19:31:32Z</td>\n",
       "      <td>2019-07-23T20:31:09Z</td>\n",
       "      <td>1.3</td>\n",
       "      <td>0.0</td>\n",
       "      <td>True</td>\n",
       "      <td>5.0</td>\n",
       "      <td>1</td>\n",
       "      <td>5.0</td>\n",
       "      <td>1</td>\n",
       "      <td>12.527344</td>\n",
       "    </tr>\n",
       "  </tbody>\n",
       "</table>\n",
       "</div>"
      ],
      "text/plain": [
       "         App_Name Primary_Genre Content_Rating              Released  \\\n",
       "0  A+ Paper Guide     Education             4+  2017-09-28T03:02:41Z   \n",
       "1         A-Books          Book             4+  2015-08-31T19:31:32Z   \n",
       "\n",
       "                Updated Version  Price  Free  Average_User_Rating  Reviews  \\\n",
       "0  2018-12-21T21:30:36Z   1.1.2    0.0  True                  0.0        0   \n",
       "1  2019-07-23T20:31:09Z     1.3    0.0  True                  5.0        1   \n",
       "\n",
       "   Current_Version_Score  Current_Version_Reviews    Size_MB  \n",
       "0                    0.0                        0  20.974609  \n",
       "1                    5.0                        1  12.527344  "
      ]
     },
     "execution_count": 44,
     "metadata": {},
     "output_type": "execute_result"
    }
   ],
   "source": [
    "new_df.head(2)"
   ]
  },
  {
   "cell_type": "code",
   "execution_count": 45,
   "id": "eb549746",
   "metadata": {
    "execution": {
     "iopub.execute_input": "2025-06-19T06:13:49.961472Z",
     "iopub.status.busy": "2025-06-19T06:13:49.961194Z",
     "iopub.status.idle": "2025-06-19T06:13:50.035375Z",
     "shell.execute_reply": "2025-06-19T06:13:50.034481Z"
    },
    "papermill": {
     "duration": 0.09759,
     "end_time": "2025-06-19T06:13:50.037142",
     "exception": false,
     "start_time": "2025-06-19T06:13:49.939552",
     "status": "completed"
    },
    "tags": []
   },
   "outputs": [
    {
     "data": {
      "text/plain": [
       "array(['4+', '17+', '9+', '12+', 'Not yet rated'], dtype=object)"
      ]
     },
     "execution_count": 45,
     "metadata": {},
     "output_type": "execute_result"
    }
   ],
   "source": [
    "new_df['Content_Rating'].unique()"
   ]
  },
  {
   "cell_type": "markdown",
   "id": "2bb62a9a",
   "metadata": {
    "papermill": {
     "duration": 0.017515,
     "end_time": "2025-06-19T06:13:50.072850",
     "exception": false,
     "start_time": "2025-06-19T06:13:50.055335",
     "status": "completed"
    },
    "tags": []
   },
   "source": [
    "---\n",
    "### We can name them accordingly\n",
    "- 4+ = Children\n",
    "- 9+ = Children\n",
    "- 12+ = Teens\n",
    "- 17+ = Adults\n",
    "- Not yet rated = Everyone\n",
    "---"
   ]
  },
  {
   "cell_type": "code",
   "execution_count": 46,
   "id": "8b0bece5",
   "metadata": {
    "execution": {
     "iopub.execute_input": "2025-06-19T06:13:50.109770Z",
     "iopub.status.busy": "2025-06-19T06:13:50.109436Z",
     "iopub.status.idle": "2025-06-19T06:13:50.667237Z",
     "shell.execute_reply": "2025-06-19T06:13:50.665451Z"
    },
    "papermill": {
     "duration": 0.578817,
     "end_time": "2025-06-19T06:13:50.669250",
     "exception": false,
     "start_time": "2025-06-19T06:13:50.090433",
     "status": "completed"
    },
    "tags": []
   },
   "outputs": [],
   "source": [
    "new_df['Content_Rating'] = new_df['Content_Rating'].replace('4+','Children')\n",
    "new_df['Content_Rating'] = new_df['Content_Rating'].replace('9+','Children')\n",
    "new_df['Content_Rating'] = new_df['Content_Rating'].replace('12+','Teens')\n",
    "new_df['Content_Rating'] = new_df['Content_Rating'].replace('17+','Adults')\n",
    "new_df['Content_Rating'] = new_df['Content_Rating'].replace('Not yet rated','Everyone')"
   ]
  },
  {
   "cell_type": "code",
   "execution_count": 47,
   "id": "ae75b9d4",
   "metadata": {
    "execution": {
     "iopub.execute_input": "2025-06-19T06:13:50.708615Z",
     "iopub.status.busy": "2025-06-19T06:13:50.708007Z",
     "iopub.status.idle": "2025-06-19T06:13:50.726027Z",
     "shell.execute_reply": "2025-06-19T06:13:50.725017Z"
    },
    "papermill": {
     "duration": 0.039365,
     "end_time": "2025-06-19T06:13:50.727852",
     "exception": false,
     "start_time": "2025-06-19T06:13:50.688487",
     "status": "completed"
    },
    "tags": []
   },
   "outputs": [
    {
     "data": {
      "text/html": [
       "<div>\n",
       "<style scoped>\n",
       "    .dataframe tbody tr th:only-of-type {\n",
       "        vertical-align: middle;\n",
       "    }\n",
       "\n",
       "    .dataframe tbody tr th {\n",
       "        vertical-align: top;\n",
       "    }\n",
       "\n",
       "    .dataframe thead th {\n",
       "        text-align: right;\n",
       "    }\n",
       "</style>\n",
       "<table border=\"1\" class=\"dataframe\">\n",
       "  <thead>\n",
       "    <tr style=\"text-align: right;\">\n",
       "      <th></th>\n",
       "      <th>App_Name</th>\n",
       "      <th>Primary_Genre</th>\n",
       "      <th>Content_Rating</th>\n",
       "      <th>Released</th>\n",
       "      <th>Updated</th>\n",
       "      <th>Version</th>\n",
       "      <th>Price</th>\n",
       "      <th>Free</th>\n",
       "      <th>Average_User_Rating</th>\n",
       "      <th>Reviews</th>\n",
       "      <th>Current_Version_Score</th>\n",
       "      <th>Current_Version_Reviews</th>\n",
       "      <th>Size_MB</th>\n",
       "    </tr>\n",
       "  </thead>\n",
       "  <tbody>\n",
       "    <tr>\n",
       "      <th>0</th>\n",
       "      <td>A+ Paper Guide</td>\n",
       "      <td>Education</td>\n",
       "      <td>Children</td>\n",
       "      <td>2017-09-28T03:02:41Z</td>\n",
       "      <td>2018-12-21T21:30:36Z</td>\n",
       "      <td>1.1.2</td>\n",
       "      <td>0.00</td>\n",
       "      <td>True</td>\n",
       "      <td>0.0</td>\n",
       "      <td>0</td>\n",
       "      <td>0.0</td>\n",
       "      <td>0</td>\n",
       "      <td>20.974609</td>\n",
       "    </tr>\n",
       "    <tr>\n",
       "      <th>1</th>\n",
       "      <td>A-Books</td>\n",
       "      <td>Book</td>\n",
       "      <td>Children</td>\n",
       "      <td>2015-08-31T19:31:32Z</td>\n",
       "      <td>2019-07-23T20:31:09Z</td>\n",
       "      <td>1.3</td>\n",
       "      <td>0.00</td>\n",
       "      <td>True</td>\n",
       "      <td>5.0</td>\n",
       "      <td>1</td>\n",
       "      <td>5.0</td>\n",
       "      <td>1</td>\n",
       "      <td>12.527344</td>\n",
       "    </tr>\n",
       "    <tr>\n",
       "      <th>2</th>\n",
       "      <td>A-books</td>\n",
       "      <td>Book</td>\n",
       "      <td>Children</td>\n",
       "      <td>2021-04-14T07:00:00Z</td>\n",
       "      <td>2021-05-30T21:08:54Z</td>\n",
       "      <td>1.3.1</td>\n",
       "      <td>0.00</td>\n",
       "      <td>True</td>\n",
       "      <td>0.0</td>\n",
       "      <td>0</td>\n",
       "      <td>0.0</td>\n",
       "      <td>0</td>\n",
       "      <td>20.926758</td>\n",
       "    </tr>\n",
       "    <tr>\n",
       "      <th>3</th>\n",
       "      <td>A-F Book #1</td>\n",
       "      <td>Book</td>\n",
       "      <td>Children</td>\n",
       "      <td>2012-02-10T03:40:07Z</td>\n",
       "      <td>2019-10-29T12:40:37Z</td>\n",
       "      <td>1.2</td>\n",
       "      <td>2.99</td>\n",
       "      <td>False</td>\n",
       "      <td>0.0</td>\n",
       "      <td>0</td>\n",
       "      <td>0.0</td>\n",
       "      <td>0</td>\n",
       "      <td>78.059570</td>\n",
       "    </tr>\n",
       "    <tr>\n",
       "      <th>4</th>\n",
       "      <td>A-Z Synonyms Dictionary</td>\n",
       "      <td>Reference</td>\n",
       "      <td>Children</td>\n",
       "      <td>2020-12-16T08:00:00Z</td>\n",
       "      <td>2020-12-18T21:36:11Z</td>\n",
       "      <td>1.0.1</td>\n",
       "      <td>0.00</td>\n",
       "      <td>True</td>\n",
       "      <td>0.0</td>\n",
       "      <td>0</td>\n",
       "      <td>0.0</td>\n",
       "      <td>0</td>\n",
       "      <td>61.695312</td>\n",
       "    </tr>\n",
       "  </tbody>\n",
       "</table>\n",
       "</div>"
      ],
      "text/plain": [
       "                  App_Name Primary_Genre Content_Rating              Released  \\\n",
       "0           A+ Paper Guide     Education       Children  2017-09-28T03:02:41Z   \n",
       "1                  A-Books          Book       Children  2015-08-31T19:31:32Z   \n",
       "2                  A-books          Book       Children  2021-04-14T07:00:00Z   \n",
       "3              A-F Book #1          Book       Children  2012-02-10T03:40:07Z   \n",
       "4  A-Z Synonyms Dictionary     Reference       Children  2020-12-16T08:00:00Z   \n",
       "\n",
       "                Updated Version  Price   Free  Average_User_Rating  Reviews  \\\n",
       "0  2018-12-21T21:30:36Z   1.1.2   0.00   True                  0.0        0   \n",
       "1  2019-07-23T20:31:09Z     1.3   0.00   True                  5.0        1   \n",
       "2  2021-05-30T21:08:54Z   1.3.1   0.00   True                  0.0        0   \n",
       "3  2019-10-29T12:40:37Z     1.2   2.99  False                  0.0        0   \n",
       "4  2020-12-18T21:36:11Z   1.0.1   0.00   True                  0.0        0   \n",
       "\n",
       "   Current_Version_Score  Current_Version_Reviews    Size_MB  \n",
       "0                    0.0                        0  20.974609  \n",
       "1                    5.0                        1  12.527344  \n",
       "2                    0.0                        0  20.926758  \n",
       "3                    0.0                        0  78.059570  \n",
       "4                    0.0                        0  61.695312  "
      ]
     },
     "execution_count": 47,
     "metadata": {},
     "output_type": "execute_result"
    }
   ],
   "source": [
    "new_df.head()"
   ]
  },
  {
   "cell_type": "markdown",
   "id": "bdc6a01e",
   "metadata": {
    "papermill": {
     "duration": 0.022505,
     "end_time": "2025-06-19T06:13:50.769022",
     "exception": false,
     "start_time": "2025-06-19T06:13:50.746517",
     "status": "completed"
    },
    "tags": []
   },
   "source": [
    "### move to the reviews"
   ]
  },
  {
   "cell_type": "code",
   "execution_count": 48,
   "id": "356680d1",
   "metadata": {
    "execution": {
     "iopub.execute_input": "2025-06-19T06:13:50.813015Z",
     "iopub.status.busy": "2025-06-19T06:13:50.812696Z",
     "iopub.status.idle": "2025-06-19T06:13:50.821154Z",
     "shell.execute_reply": "2025-06-19T06:13:50.819976Z"
    },
    "papermill": {
     "duration": 0.030877,
     "end_time": "2025-06-19T06:13:50.822992",
     "exception": false,
     "start_time": "2025-06-19T06:13:50.792115",
     "status": "completed"
    },
    "tags": []
   },
   "outputs": [
    {
     "data": {
      "text/plain": [
       "22685334"
      ]
     },
     "execution_count": 48,
     "metadata": {},
     "output_type": "execute_result"
    }
   ],
   "source": [
    "new_df['Reviews'].max()"
   ]
  },
  {
   "cell_type": "code",
   "execution_count": 49,
   "id": "598237b8",
   "metadata": {
    "execution": {
     "iopub.execute_input": "2025-06-19T06:13:50.864668Z",
     "iopub.status.busy": "2025-06-19T06:13:50.864366Z",
     "iopub.status.idle": "2025-06-19T06:13:50.880287Z",
     "shell.execute_reply": "2025-06-19T06:13:50.879037Z"
    },
    "papermill": {
     "duration": 0.039571,
     "end_time": "2025-06-19T06:13:50.882717",
     "exception": false,
     "start_time": "2025-06-19T06:13:50.843146",
     "status": "completed"
    },
    "tags": []
   },
   "outputs": [
    {
     "data": {
      "text/html": [
       "<div>\n",
       "<style scoped>\n",
       "    .dataframe tbody tr th:only-of-type {\n",
       "        vertical-align: middle;\n",
       "    }\n",
       "\n",
       "    .dataframe tbody tr th {\n",
       "        vertical-align: top;\n",
       "    }\n",
       "\n",
       "    .dataframe thead th {\n",
       "        text-align: right;\n",
       "    }\n",
       "</style>\n",
       "<table border=\"1\" class=\"dataframe\">\n",
       "  <thead>\n",
       "    <tr style=\"text-align: right;\">\n",
       "      <th></th>\n",
       "      <th>App_Name</th>\n",
       "      <th>Primary_Genre</th>\n",
       "      <th>Content_Rating</th>\n",
       "      <th>Released</th>\n",
       "      <th>Updated</th>\n",
       "      <th>Version</th>\n",
       "      <th>Price</th>\n",
       "      <th>Free</th>\n",
       "      <th>Average_User_Rating</th>\n",
       "      <th>Reviews</th>\n",
       "      <th>Current_Version_Score</th>\n",
       "      <th>Current_Version_Reviews</th>\n",
       "      <th>Size_MB</th>\n",
       "    </tr>\n",
       "  </thead>\n",
       "  <tbody>\n",
       "    <tr>\n",
       "      <th>415817</th>\n",
       "      <td>YouTube: Watch, Listen, Stream</td>\n",
       "      <td>Photo &amp; Video</td>\n",
       "      <td>Adults</td>\n",
       "      <td>2012-09-11T07:23:19Z</td>\n",
       "      <td>2021-10-10T23:03:29Z</td>\n",
       "      <td>16.40.3</td>\n",
       "      <td>0.0</td>\n",
       "      <td>True</td>\n",
       "      <td>4.68757</td>\n",
       "      <td>22685334</td>\n",
       "      <td>4.68757</td>\n",
       "      <td>22685334</td>\n",
       "      <td>249.71875</td>\n",
       "    </tr>\n",
       "  </tbody>\n",
       "</table>\n",
       "</div>"
      ],
      "text/plain": [
       "                              App_Name  Primary_Genre Content_Rating  \\\n",
       "415817  YouTube: Watch, Listen, Stream  Photo & Video         Adults   \n",
       "\n",
       "                    Released               Updated  Version  Price  Free  \\\n",
       "415817  2012-09-11T07:23:19Z  2021-10-10T23:03:29Z  16.40.3    0.0  True   \n",
       "\n",
       "        Average_User_Rating   Reviews  Current_Version_Score  \\\n",
       "415817              4.68757  22685334                4.68757   \n",
       "\n",
       "        Current_Version_Reviews    Size_MB  \n",
       "415817                 22685334  249.71875  "
      ]
     },
     "execution_count": 49,
     "metadata": {},
     "output_type": "execute_result"
    }
   ],
   "source": [
    "new_df[new_df['Reviews']==22685334]"
   ]
  },
  {
   "cell_type": "code",
   "execution_count": 50,
   "id": "58b6c9be",
   "metadata": {
    "execution": {
     "iopub.execute_input": "2025-06-19T06:13:50.923053Z",
     "iopub.status.busy": "2025-06-19T06:13:50.922379Z",
     "iopub.status.idle": "2025-06-19T06:13:50.967054Z",
     "shell.execute_reply": "2025-06-19T06:13:50.966208Z"
    },
    "papermill": {
     "duration": 0.066297,
     "end_time": "2025-06-19T06:13:50.968582",
     "exception": false,
     "start_time": "2025-06-19T06:13:50.902285",
     "status": "completed"
    },
    "tags": []
   },
   "outputs": [
    {
     "data": {
      "text/plain": [
       "count    1.229885e+06\n",
       "mean     8.260666e+02\n",
       "std      5.017049e+04\n",
       "min      0.000000e+00\n",
       "25%      0.000000e+00\n",
       "50%      0.000000e+00\n",
       "75%      3.000000e+00\n",
       "max      2.268533e+07\n",
       "Name: Reviews, dtype: float64"
      ]
     },
     "execution_count": 50,
     "metadata": {},
     "output_type": "execute_result"
    }
   ],
   "source": [
    "new_df['Reviews'].describe()"
   ]
  },
  {
   "cell_type": "code",
   "execution_count": 51,
   "id": "88b52e47",
   "metadata": {
    "execution": {
     "iopub.execute_input": "2025-06-19T06:13:51.006932Z",
     "iopub.status.busy": "2025-06-19T06:13:51.006585Z",
     "iopub.status.idle": "2025-06-19T06:13:51.068401Z",
     "shell.execute_reply": "2025-06-19T06:13:51.067394Z"
    },
    "papermill": {
     "duration": 0.083673,
     "end_time": "2025-06-19T06:13:51.070341",
     "exception": false,
     "start_time": "2025-06-19T06:13:50.986668",
     "status": "completed"
    },
    "tags": []
   },
   "outputs": [],
   "source": [
    "new_df['Reviews_category'] = 'NoReviews'\n",
    "new_df.loc[(new_df['Reviews']>0)&(new_df['Reviews']<=10000),'Reviews_category'] = 'Less then 10k'\n",
    "new_df.loc[(new_df['Reviews']>10000)&(new_df['Reviews']<=500000),'Reviews_category'] = 'Between 10k and 500k'\n",
    "new_df.loc[(new_df['Reviews']>500000)&(new_df['Reviews']<=1000000),'Reviews_category'] = 'Between 500k and 1Mil'\n",
    "new_df.loc[(new_df['Reviews']>1000000)&(new_df['Reviews']<=22685334),'Reviews_category'] = 'Million +'"
   ]
  },
  {
   "cell_type": "code",
   "execution_count": 52,
   "id": "628814f1",
   "metadata": {
    "execution": {
     "iopub.execute_input": "2025-06-19T06:13:51.108729Z",
     "iopub.status.busy": "2025-06-19T06:13:51.108395Z",
     "iopub.status.idle": "2025-06-19T06:13:51.183092Z",
     "shell.execute_reply": "2025-06-19T06:13:51.181760Z"
    },
    "papermill": {
     "duration": 0.095995,
     "end_time": "2025-06-19T06:13:51.184623",
     "exception": false,
     "start_time": "2025-06-19T06:13:51.088628",
     "status": "completed"
    },
    "tags": []
   },
   "outputs": [
    {
     "data": {
      "text/plain": [
       "Reviews_category\n",
       "NoReviews                683969\n",
       "Less then 10k            538897\n",
       "Between 10k and 500k       6721\n",
       "Million +                   152\n",
       "Between 500k and 1Mil       146\n",
       "Name: count, dtype: int64"
      ]
     },
     "execution_count": 52,
     "metadata": {},
     "output_type": "execute_result"
    }
   ],
   "source": [
    "new_df['Reviews_category'].value_counts()"
   ]
  },
  {
   "cell_type": "markdown",
   "id": "3ddd1524",
   "metadata": {
    "papermill": {
     "duration": 0.022839,
     "end_time": "2025-06-19T06:13:51.228006",
     "exception": false,
     "start_time": "2025-06-19T06:13:51.205167",
     "status": "completed"
    },
    "tags": []
   },
   "source": [
    "## So you can see clearily"
   ]
  },
  {
   "cell_type": "code",
   "execution_count": 53,
   "id": "2bae330c",
   "metadata": {
    "execution": {
     "iopub.execute_input": "2025-06-19T06:13:51.268305Z",
     "iopub.status.busy": "2025-06-19T06:13:51.267980Z",
     "iopub.status.idle": "2025-06-19T06:13:52.275381Z",
     "shell.execute_reply": "2025-06-19T06:13:52.274441Z"
    },
    "papermill": {
     "duration": 1.02959,
     "end_time": "2025-06-19T06:13:52.276902",
     "exception": false,
     "start_time": "2025-06-19T06:13:51.247312",
     "status": "completed"
    },
    "tags": []
   },
   "outputs": [
    {
     "data": {
      "image/png": "[encoded data removed]",
      "text/plain": [
       "<Figure size 640x480 with 1 Axes>"
      ]
     },
     "metadata": {},
     "output_type": "display_data"
    }
   ],
   "source": [
    "import seaborn as sns\n",
    "import matplotlib.pyplot as plt\n",
    "\n",
    "sns.countplot(x='Primary_Genre', data=new_df)\n",
    "plt.xticks(rotation=90)\n",
    "plt.title('App Count by Genre')\n",
    "plt.show()\n"
   ]
  },
  {
   "cell_type": "markdown",
   "id": "7cd87b89",
   "metadata": {
    "papermill": {
     "duration": 0.019179,
     "end_time": "2025-06-19T06:13:52.317054",
     "exception": false,
     "start_time": "2025-06-19T06:13:52.297875",
     "status": "completed"
    },
    "tags": []
   },
   "source": [
    "### As you can see clearily the games has move then all other gener"
   ]
  },
  {
   "cell_type": "markdown",
   "id": "f0905134",
   "metadata": {
    "papermill": {
     "duration": 0.019154,
     "end_time": "2025-06-19T06:13:52.356768",
     "exception": false,
     "start_time": "2025-06-19T06:13:52.337614",
     "status": "completed"
    },
    "tags": []
   },
   "source": [
    "---\n",
    "# Conclusion (level_1)\n",
    "- Top 5 categories are (Games, Business, Education, Utilities)\n",
    "- you have total 152 apps that has rating count more then a Million\n",
    "- Most of the Apps are for Childerns 4 to 12 years old\n",
    "- The most reviewed App is YouTube\n",
    "- The most heavy size app is Metro Exodus\n",
    "- The most small size app is Select Album\n",
    "---"
   ]
  },
  {
   "cell_type": "markdown",
   "id": "cd549904",
   "metadata": {
    "papermill": {
     "duration": 0.021091,
     "end_time": "2025-06-19T06:13:52.399917",
     "exception": false,
     "start_time": "2025-06-19T06:13:52.378826",
     "status": "completed"
    },
    "tags": []
   },
   "source": [
    "### Many more to continue"
   ]
  },
  {
   "cell_type": "code",
   "execution_count": null,
   "id": "adbcb9d8",
   "metadata": {
    "papermill": {
     "duration": 0.01987,
     "end_time": "2025-06-19T06:13:52.439224",
     "exception": false,
     "start_time": "2025-06-19T06:13:52.419354",
     "status": "completed"
    },
    "tags": []
   },
   "outputs": [],
   "source": []
  }
 ],
 "metadata": {
  "kaggle": {
   "accelerator": "none",
   "dataSources": [
    {
     "datasetId": 1647105,
     "sourceId": 2704074,
     "sourceType": "datasetVersion"
    }
   ],
   "dockerImageVersionId": 31040,
   "isGpuEnabled": false,
   "isInternetEnabled": true,
   "language": "python",
   "sourceType": "notebook"
  },
  "kernelspec": {
   "display_name": "Python 3",
   "language": "python",
   "name": "python3"
  },
  "language_info": {
   "codemirror_mode": {
    "name": "ipython",
    "version": 3
   },
   "file_extension": ".py",
   "mimetype": "text/x-python",
   "name": "python",
   "nbconvert_exporter": "python",
   "pygments_lexer": "ipython3",
   "version": "3.11.11"
  },
  "papermill": {
   "default_parameters": {},
   "duration": 104.019288,
   "end_time": "2025-06-19T06:13:53.586259",
   "environment_variables": {},
   "exception": null,
   "input_path": "__notebook__.ipynb",
   "output_path": "__notebook__.ipynb",
   "parameters": {},
   "start_time": "2025-06-19T06:12:09.566971",
   "version": "2.6.0"
  }
 },
 "nbformat": 4,
 "nbformat_minor": 5
}
